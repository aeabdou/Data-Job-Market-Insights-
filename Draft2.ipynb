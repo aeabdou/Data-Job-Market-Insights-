{
 "cells": [
  {
   "cell_type": "code",
   "execution_count": 2,
   "id": "4f52f63a-afa6-49a8-bd00-735845ad1193",
   "metadata": {
    "tags": []
   },
   "outputs": [
    {
     "name": "stdout",
     "output_type": "stream",
     "text": [
      "WARNING:tensorflow:From c:\\Users\\ahmed\\AppData\\Local\\Programs\\Python\\Python311\\Lib\\site-packages\\keras\\src\\losses.py:2976: The name tf.losses.sparse_softmax_cross_entropy is deprecated. Please use tf.compat.v1.losses.sparse_softmax_cross_entropy instead.\n",
      "\n"
     ]
    }
   ],
   "source": [
    "import numpy as np\n",
    "import tensorflow as tf\n",
    "from tensorflow.keras import Sequential\n",
    "from tensorflow.keras.layers import Dense\n",
    "import pandas as pd\n",
    "from sklearn.model_selection import train_test_split"
   ]
  },
  {
   "cell_type": "code",
   "execution_count": 3,
   "id": "a3c65403-60d9-49b3-a5c7-305a3ca2dcb1",
   "metadata": {
    "tags": []
   },
   "outputs": [],
   "source": [
    "jobs = pd.read_csv(\"ds.csv\")"
   ]
  },
  {
   "cell_type": "markdown",
   "metadata": {},
   "source": [
    "Extracting most used Tech in DS jobs and making new columns based on presence in job description:"
   ]
  },
  {
   "cell_type": "code",
   "execution_count": 4,
   "metadata": {},
   "outputs": [],
   "source": [
    "# Extracting Tech form job DESCRIPTION and making new columns based on that:\n",
    "def check_technology_presence(description, technology):\n",
    "    return 1 if technology in description.lower() else 0\n",
    "\n",
    "# Create individual columns for each technology\n",
    "jobs['Python'] = jobs['Job Description'].apply(lambda x: check_technology_presence(x, 'python'))\n",
    "jobs['R'] = jobs['Job Description'].apply(lambda x: check_technology_presence(x, ' r '))\n",
    "jobs['SAS'] = jobs['Job Description'].apply(lambda x: check_technology_presence(x, 'sas'))\n",
    "jobs['SQL'] = jobs['Job Description'].apply(lambda x: check_technology_presence(x, 'sql'))\n",
    "jobs['Excel'] = jobs['Job Description'].apply(lambda x: check_technology_presence(x, 'excel'))\n",
    "jobs['Power BI'] = jobs['Job Description'].apply(lambda x: check_technology_presence(x, 'powerbi') or check_technology_presence(x, 'power bi') or check_technology_presence(x, 'power-bi'))\n",
    "jobs['Tableau'] = jobs['Job Description'].apply(lambda x: check_technology_presence(x, 'tableau'))\n",
    "jobs['Software Tech'] = jobs['Job Description'].apply(lambda x: check_technology_presence(x, 'java') or check_technology_presence(x, 'c++')\n",
    "                                                       or check_technology_presence(x, 'c#') or check_technology_presence(x, ' c '))"
   ]
  },
  {
   "cell_type": "code",
   "execution_count": 5,
   "metadata": {},
   "outputs": [
    {
     "data": {
      "text/plain": [
       "Software Tech\n",
       "0    1977\n",
       "1     711\n",
       "Name: count, dtype: int64"
      ]
     },
     "execution_count": 5,
     "metadata": {},
     "output_type": "execute_result"
    }
   ],
   "source": [
    "jobs['Software Tech'].value_counts()"
   ]
  },
  {
   "cell_type": "markdown",
   "metadata": {},
   "source": [
    "Making more General job titles columns to reduce count for analysis and model(later)"
   ]
  },
  {
   "cell_type": "code",
   "execution_count": 6,
   "metadata": {},
   "outputs": [
    {
     "data": {
      "text/plain": [
       "array(['Data Analyst', 'Data Scientist', 'Quantitative Researcher', ...,\n",
       "       'Senior Data Engineer (Data ELT/ETL Engineer)',\n",
       "       'Security Analytics Data Engineer',\n",
       "       'Patient Safety Physician or Safety Scientist - UK, Europe or the US'],\n",
       "      dtype=object)"
      ]
     },
     "execution_count": 6,
     "metadata": {},
     "output_type": "execute_result"
    }
   ],
   "source": [
    "jobs['Job Title'].unique()"
   ]
  },
  {
   "cell_type": "code",
   "execution_count": 7,
   "id": "fe3dffcb-035e-4454-9d9e-6a1ce72376d4",
   "metadata": {
    "tags": []
   },
   "outputs": [
    {
     "data": {
      "text/plain": [
       "General_Title\n",
       "Data Science        1422\n",
       "Analytics            648\n",
       "Data Engineer        304\n",
       "ML/AI                 76\n",
       "Senior Jobs           75\n",
       "BI                    64\n",
       "Other                 57\n",
       "Quantitative Job      42\n",
       "Name: count, dtype: int64"
      ]
     },
     "execution_count": 7,
     "metadata": {},
     "output_type": "execute_result"
    }
   ],
   "source": [
    "# Modify the function to categorize job titles with the new insights\n",
    "def refined_categorize_title(title):\n",
    "    title = title.lower()  # Convert to lowercase for consistent comparison\n",
    "    if 'analytic' in title or 'analysis' in title or 'data analyst' in title:\n",
    "        return 'Analytics'\n",
    "    elif 'business intelligence' in title:\n",
    "        return 'BI'\n",
    "    elif 'science' in title or 'scientist' in title:\n",
    "        return 'Data Science'\n",
    "    elif 'machine learning' in title or 'ml' in title or 'ai' in title:\n",
    "        return 'ML/AI'\n",
    "    elif 'senior' in title or 'sr.' in title:\n",
    "        return 'Senior Jobs'\n",
    "    elif 'data engineer' in title:\n",
    "        return 'Data Engineer'\n",
    "    elif 'product analyst' in title or 'product analysis' in title:\n",
    "        return 'Product Analyst'\n",
    "    elif 'quantitative' in title:\n",
    "        return 'Quantitative Job'\n",
    "    else:\n",
    "        return 'Other'\n",
    "\n",
    "# Apply the modified function to the 'Job Title' column to create the 'General_Title' column\n",
    "jobs['General_Title'] = jobs['Job Title'].apply(refined_categorize_title)\n",
    "\n",
    "# Check the distribution of the new column\n",
    "jobs['General_Title'].value_counts()"
   ]
  },
  {
   "cell_type": "code",
   "execution_count": 8,
   "id": "b7abfec4-952b-40d7-ae5b-84438e3f52ec",
   "metadata": {
    "tags": []
   },
   "outputs": [
    {
     "data": {
      "text/plain": [
       "Job Title\n",
       "Data Modeler                                       6\n",
       "Data Architect II                                  3\n",
       "Data Architect / Engineer                          2\n",
       "Data Architect                                     2\n",
       "Big Data Consultant                                2\n",
       "Intern- Martech & Data Consulting                  1\n",
       "Spice Modeling Engineer                            1\n",
       "Big Data Administrator/Developer                   1\n",
       "Staff Software Engineer - Data Platform            1\n",
       "Community Data Manager, Single-Cell Biology        1\n",
       "SystemC Modeling Engineer                          1\n",
       "Investigational Computational Biologist            1\n",
       "Head of Data                                       1\n",
       "Data Crawler Engineer                              1\n",
       "Graphics (GPU) Performance Modeling Engineer       1\n",
       "CPU Performance –Sr Principal Modeling Engineer    1\n",
       "Data Specialist                                    1\n",
       "Enterprise Cloud Data Architect                    1\n",
       "SOC Architecture Modeling Engineer                 1\n",
       "Business Data Modeler                              1\n",
       "Name: count, dtype: int64"
      ]
     },
     "execution_count": 8,
     "metadata": {},
     "output_type": "execute_result"
    }
   ],
   "source": [
    "# Filter out the job titles that are categorized as \"Others\"\n",
    "other_titles = jobs[jobs['General_Title'] == 'Other']['Job Title']\n",
    "\n",
    "# Get the most frequent job titles in the \"Others\" category\n",
    "frequent_other_titles = other_titles.value_counts().head(20)  # Displaying top 20 for brevity\n",
    "frequent_other_titles"
   ]
  },
  {
   "cell_type": "markdown",
   "metadata": {},
   "source": [
    "Creating salary categories based on the mean salary"
   ]
  },
  {
   "cell_type": "code",
   "execution_count": 9,
   "id": "b7d0a8b9-181b-43d1-9d49-9fb98160a555",
   "metadata": {
    "tags": []
   },
   "outputs": [],
   "source": [
    "# Create a new \"Salary_Range_int\" column based on the 'mean_salary' column\n",
    "conditions = [\n",
    "    jobs['mean_salary'] < 70,\n",
    "    (jobs['mean_salary'] >= 70) & (jobs['mean_salary'] < 90),\n",
    "    (jobs['mean_salary'] >= 90) & (jobs['mean_salary'] < 120),\n",
    "    (jobs['mean_salary'] >= 120) & (jobs['mean_salary'] < 150),\n",
    "    jobs['mean_salary'] >= 150\n",
    "]\n",
    "\n",
    "# Assigning the numerical categories from 0 to 4 based on the conditions\n",
    "choices = [0, 1, 2, 3, 4]\n",
    "jobs[\"Salary_Range_int\"] = np.select(conditions, choices)"
   ]
  },
  {
   "cell_type": "code",
   "execution_count": 10,
   "metadata": {},
   "outputs": [
    {
     "data": {
      "text/plain": [
       "Salary_Range_int\n",
       "3    704\n",
       "2    616\n",
       "0    549\n",
       "4    410\n",
       "1    409\n",
       "Name: count, dtype: int64"
      ]
     },
     "execution_count": 10,
     "metadata": {},
     "output_type": "execute_result"
    }
   ],
   "source": [
    "jobs['Salary_Range_int'].value_counts()"
   ]
  },
  {
   "cell_type": "code",
   "execution_count": 11,
   "metadata": {},
   "outputs": [
    {
     "data": {
      "text/plain": [
       "0    3\n",
       "1    3\n",
       "2    3\n",
       "3    3\n",
       "4    3\n",
       "Name: Salary_Range_int, dtype: int32"
      ]
     },
     "execution_count": 11,
     "metadata": {},
     "output_type": "execute_result"
    }
   ],
   "source": [
    "jobs[\"Salary_Range_int\"].head()"
   ]
  },
  {
   "cell_type": "markdown",
   "metadata": {},
   "source": [
    "Grouping Sectors into more general categories "
   ]
  },
  {
   "cell_type": "code",
   "execution_count": 12,
   "id": "36636e3c-00dc-4821-8cbd-2f90f7677554",
   "metadata": {
    "tags": []
   },
   "outputs": [
    {
     "data": {
      "text/plain": [
       "array(['Information Technology', 'Financial & Legal Services', nan,\n",
       "       'Consumer Services & Retail', 'Entertainment & Media',\n",
       "       'Public & Non-Profit', 'Health & Pharmaceuticals',\n",
       "       'Energy & Mining', 'Manufacturing & Construction', 'Agriculture',\n",
       "       'Entertainment, Arts & Tourism', 'Transportation & Logistics'],\n",
       "      dtype=object)"
      ]
     },
     "execution_count": 12,
     "metadata": {},
     "output_type": "execute_result"
    }
   ],
   "source": [
    "# Define the logical groupings for the sectors again\n",
    "sector_groupings = {\n",
    "    \"Information Technology\": \"Information Technology\",\n",
    "    \"Telecommunications\": \"Information Technology\",\n",
    "    \n",
    "    \"Insurance\": \"Financial & Legal Services\",\n",
    "    \"Finance\": \"Financial & Legal Services\",\n",
    "    \"Accounting & Legal\": \"Financial & Legal Services\",\n",
    "    \"Real Estate\": \"Financial & Legal Services\",\n",
    "    \n",
    "    \"Business Services\": \"Consumer Services & Retail\",\n",
    "    \"Restaurants, Bars & Food Services\": \"Consumer Services & Retail\",\n",
    "    \"Retail\": \"Consumer Services & Retail\",\n",
    "    \"Consumer Services\": \"Consumer Services & Retail\",\n",
    "    \n",
    "    \"Health Care\": \"Health & Pharmaceuticals\",\n",
    "    \"Biotech & Pharmaceuticals\": \"Health & Pharmaceuticals\",\n",
    "    \n",
    "    \"Oil, Gas, Energy & Utilities\": \"Energy & Mining\",\n",
    "    \"Mining & Metals\": \"Energy & Mining\",\n",
    "    \n",
    "    \"Government\": \"Public & Non-Profit\",\n",
    "    \"Non-Profit\": \"Public & Non-Profit\",\n",
    "    \"Education\": \"Public & Non-Profit\",\n",
    "    \n",
    "    \"Manufacturing\": \"Manufacturing & Construction\",\n",
    "    \"Aerospace & Defense\": \"Manufacturing & Construction\",\n",
    "    \"Construction, Repair & Maintenance\": \"Manufacturing & Construction\",\n",
    "    \n",
    "    \"Agriculture & Forestry\": \"Agriculture\",\n",
    "    \n",
    "    \n",
    "    \"Entertainment & Media\": \"Entertainment, Arts & Tourism\",\n",
    "    \"Travel & Tourism\": \"Entertainment, Arts & Tourism\",\n",
    "    \"Media\": \"Entertainment & Media\",\n",
    "    \n",
    "    \"Transportation & Logistics\": \"Transportation & Logistics\",\n",
    "    \n",
    "    \"Unknown\": \"Others\"\n",
    "}\n",
    "\n",
    "# Map the sectors to their respective groups\n",
    "jobs['Sector_Grouped'] = jobs['Sector'].map(sector_groupings)\n",
    "\n",
    "# Display the first few rows of the dataframe to verify the changes\n",
    "jobs['Sector_Grouped'].unique()\n",
    "\n"
   ]
  },
  {
   "cell_type": "markdown",
   "metadata": {},
   "source": [
    "Converting the newly created general sectors into integers to be suitable for the model"
   ]
  },
  {
   "cell_type": "code",
   "execution_count": 13,
   "id": "6767646c-ddf0-4e6c-8f26-04e8ed28ddfa",
   "metadata": {
    "tags": []
   },
   "outputs": [],
   "source": [
    "# Dropping rows with 'Unknown' in Sector_Grouped\n",
    "jobs = jobs[jobs['Sector_Grouped'] != 'Unknown']\n",
    "\n",
    "# Mapping the grouped sectors to integers\n",
    "sector_to_int_mapping = {\n",
    "    \"Technology & Media\": 0,\n",
    "    \"Financial & Legal Services\": 1,\n",
    "    \"Consumer Services & Retail\": 2,\n",
    "    \"Health & Pharmaceuticals\": 3,\n",
    "    \"Energy & Utilities\": 4,\n",
    "    \"Public & Non-Profit\": 5,\n",
    "    \"Manufacturing & Construction\": 6,\n",
    "    \"Agriculture, Forestry & Mining\": 7,\n",
    "    \"Entertainment, Arts & Tourism\": 8,\n",
    "    \"Transportation & Logistics\": 9\n",
    "}\n",
    "\n",
    "jobs['Sector_Int'] = jobs['Sector_Grouped'].map(sector_to_int_mapping)\n",
    "\n",
    "# Display the unique values for verification\n",
    "jobs['Sector_Int'].unique()\n",
    "\n",
    "#Dropping Sector_Grouped column.\n",
    "jobs.drop(columns=['Sector_Grouped','Sector'],inplace=True)"
   ]
  },
  {
   "cell_type": "markdown",
   "metadata": {},
   "source": [
    "Converting the revene groups into int to be suitable for the model"
   ]
  },
  {
   "cell_type": "code",
   "execution_count": 14,
   "id": "5fc0fcda-05ba-4b4a-9ede-8fde71e51c4b",
   "metadata": {
    "tags": []
   },
   "outputs": [
    {
     "data": {
      "text/plain": [
       "array([-1.,  6.,  7., 11.,  1., nan,  4.,  8.,  9., 10.,  3.,  2.,  0.,\n",
       "        5.])"
      ]
     },
     "execution_count": 14,
     "metadata": {},
     "output_type": "execute_result"
    }
   ],
   "source": [
    "# Mapping for the 'Revenue' column\n",
    "revenue_mapping = {\n",
    "    'Unknown / Non-Applicable': -1,\n",
    "    'Unknown': -1,\n",
    "    'Less than $1 million (USD)': 0,\n",
    "    '$1 to $5 million (USD)': 1,\n",
    "    '$5 to $10 million (USD)': 2,\n",
    "    '$10 to $25 million (USD)': 3,\n",
    "    '$25 to $50 million (USD)': 4,\n",
    "    '$50 to $100 million (USD)': 5,\n",
    "    '$100 to $500 million (USD)': 6,\n",
    "    '$500 million to $1 billion (USD)': 7,\n",
    "    '$1 to $2 billion (USD)': 8,\n",
    "    '$2 to $5 billion (USD)': 9,\n",
    "    '$5 to $10 billion (USD)': 10,\n",
    "    '$10+ billion (USD)': 11\n",
    "}\n",
    "\n",
    "# Replace the values in the 'Revenue' column using the mapping\n",
    "jobs['Revenue_Int'] = jobs['Revenue'].map(revenue_mapping)\n",
    "\n",
    "# Verify the transformation\n",
    "jobs['Revenue_Int'].unique()"
   ]
  },
  {
   "cell_type": "code",
   "execution_count": 15,
   "id": "a3ead318-05df-4824-bf36-be0952468267",
   "metadata": {
    "tags": []
   },
   "outputs": [
    {
     "data": {
      "text/html": [
       "<div>\n",
       "<style scoped>\n",
       "    .dataframe tbody tr th:only-of-type {\n",
       "        vertical-align: middle;\n",
       "    }\n",
       "\n",
       "    .dataframe tbody tr th {\n",
       "        vertical-align: top;\n",
       "    }\n",
       "\n",
       "    .dataframe thead th {\n",
       "        text-align: right;\n",
       "    }\n",
       "</style>\n",
       "<table border=\"1\" class=\"dataframe\">\n",
       "  <thead>\n",
       "    <tr style=\"text-align: right;\">\n",
       "      <th></th>\n",
       "      <th>...1</th>\n",
       "      <th>index</th>\n",
       "      <th>Job Title</th>\n",
       "      <th>Job Description</th>\n",
       "      <th>Rating</th>\n",
       "      <th>Company Name</th>\n",
       "      <th>Location</th>\n",
       "      <th>Headquarters</th>\n",
       "      <th>Size</th>\n",
       "      <th>Founded</th>\n",
       "      <th>...</th>\n",
       "      <th>SAS</th>\n",
       "      <th>SQL</th>\n",
       "      <th>Excel</th>\n",
       "      <th>Power BI</th>\n",
       "      <th>Tableau</th>\n",
       "      <th>Software Tech</th>\n",
       "      <th>General_Title</th>\n",
       "      <th>Salary_Range_int</th>\n",
       "      <th>Sector_Int</th>\n",
       "      <th>Revenue_Int</th>\n",
       "    </tr>\n",
       "  </thead>\n",
       "  <tbody>\n",
       "    <tr>\n",
       "      <th>0</th>\n",
       "      <td>3</td>\n",
       "      <td>3</td>\n",
       "      <td>Data Analyst</td>\n",
       "      <td>Sapphire Digital seeks a dynamic and driven mi...</td>\n",
       "      <td>3.4</td>\n",
       "      <td>Sapphire Digital\\r\\n3.4</td>\n",
       "      <td>Lyndhurst, NJ</td>\n",
       "      <td>Lyndhurst, NJ</td>\n",
       "      <td>201 to 500 employees</td>\n",
       "      <td>2019</td>\n",
       "      <td>...</td>\n",
       "      <td>1</td>\n",
       "      <td>1</td>\n",
       "      <td>1</td>\n",
       "      <td>1</td>\n",
       "      <td>0</td>\n",
       "      <td>0</td>\n",
       "      <td>Analytics</td>\n",
       "      <td>3</td>\n",
       "      <td>NaN</td>\n",
       "      <td>-1.0</td>\n",
       "    </tr>\n",
       "  </tbody>\n",
       "</table>\n",
       "<p>1 rows × 32 columns</p>\n",
       "</div>"
      ],
      "text/plain": [
       "   ...1  index     Job Title  \\\n",
       "0     3      3  Data Analyst   \n",
       "\n",
       "                                     Job Description  Rating  \\\n",
       "0  Sapphire Digital seeks a dynamic and driven mi...     3.4   \n",
       "\n",
       "              Company Name       Location   Headquarters  \\\n",
       "0  Sapphire Digital\\r\\n3.4  Lyndhurst, NJ  Lyndhurst, NJ   \n",
       "\n",
       "                   Size  Founded  ... SAS SQL Excel Power BI Tableau  \\\n",
       "0  201 to 500 employees     2019  ...   1   1     1        1       0   \n",
       "\n",
       "  Software Tech General_Title Salary_Range_int  Sector_Int Revenue_Int  \n",
       "0             0     Analytics                3         NaN        -1.0  \n",
       "\n",
       "[1 rows x 32 columns]"
      ]
     },
     "execution_count": 15,
     "metadata": {},
     "output_type": "execute_result"
    }
   ],
   "source": [
    "jobs.head(1)"
   ]
  },
  {
   "cell_type": "code",
   "execution_count": 16,
   "id": "ad5f2ae6-ef1f-49b9-baff-f90b939f64b5",
   "metadata": {
    "tags": []
   },
   "outputs": [
    {
     "data": {
      "text/plain": [
       "Rating               9.858631\n",
       "Size                 5.543155\n",
       "Founded             23.028274\n",
       "degree               0.000000\n",
       "State                0.000000\n",
       "Python               0.000000\n",
       "R                    0.000000\n",
       "SAS                  0.000000\n",
       "SQL                  0.000000\n",
       "Excel                0.000000\n",
       "Power BI             0.000000\n",
       "Tableau              0.000000\n",
       "Software Tech        0.000000\n",
       "General_Title        0.000000\n",
       "Salary_Range_int     0.000000\n",
       "Sector_Int          41.517857\n",
       "Revenue_Int         33.705357\n",
       "dtype: float64"
      ]
     },
     "execution_count": 16,
     "metadata": {},
     "output_type": "execute_result"
    }
   ],
   "source": [
    "# Dropping irrelevant columns\n",
    "jobs.drop(columns=['Revenue','Salary_cat','Job Description','Job Title' ,'Company Name', 'Salary_Estimate', 'Competitors','mean_salary', '...1', 'index','Headquarters',\n",
    "'Type of ownership','Industry','Location','Salary_cat','Easy Apply'], inplace=True)\n",
    "\n",
    "# Replace -1 and '-1' (which seem to be placeholders for missing data) with NaN for better handling\n",
    "jobs.replace([-1, '-1'], [None, None], inplace=True)\n",
    "\n",
    "# Checking for missing values\n",
    "missing_percentage = jobs.isna().mean() * 100\n",
    "\n",
    "missing_percentage\n"
   ]
  },
  {
   "cell_type": "code",
   "execution_count": 17,
   "id": "3991810a-d368-4dd5-97c1-a29e35581b8b",
   "metadata": {
    "tags": []
   },
   "outputs": [],
   "source": [
    "# Filling numerical columns with mean\n",
    "jobs['Rating'].fillna(jobs['Rating'].mean(), inplace=True)\n",
    "jobs['Founded'].fillna(jobs['Founded'].mean(), inplace=True)\n"
   ]
  },
  {
   "cell_type": "code",
   "execution_count": 18,
   "id": "9f4480f0-d5de-4e4c-ba61-30f2d1120398",
   "metadata": {
    "tags": []
   },
   "outputs": [
    {
     "name": "stderr",
     "output_type": "stream",
     "text": [
      "C:\\Users\\ahmed\\AppData\\Local\\Temp\\ipykernel_23500\\352597326.py:4: FutureWarning: Setting an item of incompatible dtype is deprecated and will raise in a future error of pandas. Value 'Unknown' has dtype incompatible with float64, please explicitly cast to a compatible dtype first.\n",
      "  jobs[col].fillna('Unknown', inplace=True)\n"
     ]
    },
    {
     "data": {
      "text/plain": [
       "Rating               0.000000\n",
       "Size                 0.000000\n",
       "Founded              0.000000\n",
       "degree               0.000000\n",
       "State                0.000000\n",
       "Python               0.000000\n",
       "R                    0.000000\n",
       "SAS                  0.000000\n",
       "SQL                  0.000000\n",
       "Excel                0.000000\n",
       "Power BI             0.000000\n",
       "Tableau              0.000000\n",
       "Software Tech        0.000000\n",
       "General_Title        0.000000\n",
       "Salary_Range_int     0.000000\n",
       "Sector_Int           0.000000\n",
       "Revenue_Int         33.705357\n",
       "dtype: float64"
      ]
     },
     "execution_count": 18,
     "metadata": {},
     "output_type": "execute_result"
    }
   ],
   "source": [
    "# Filling categorical columns with 'Unknown'\n",
    "cols_fill_unknown = ['Size','Sector_Int']\n",
    "for col in cols_fill_unknown:\n",
    "    jobs[col].fillna('Unknown', inplace=True)\n",
    "\n",
    "missing_percentage = jobs.isna().mean() * 100\n",
    "\n",
    "missing_percentage\n"
   ]
  },
  {
   "cell_type": "markdown",
   "id": "df667679-5a28-4f33-b9c7-0013a9fe7074",
   "metadata": {},
   "source": [
    "Sector_Int still are the character: 'Unkown'.\n",
    "taking the mean and rounding it."
   ]
  },
  {
   "cell_type": "code",
   "execution_count": 19,
   "id": "deaa413e-6432-407b-a989-e56389d5b033",
   "metadata": {
    "tags": []
   },
   "outputs": [],
   "source": [
    "# Compute the mean excluding the \"Unknown\" values and round it\n",
    "rounded_mean = round(jobs[jobs['Sector_Int'] != 'Unknown']['Sector_Int'].astype(float).mean())\n",
    "\n",
    "# Replace \"Unknown\" values with the rounded mean\n",
    "jobs['Sector_Int'].replace('Unknown', rounded_mean, inplace=True)\n"
   ]
  },
  {
   "cell_type": "code",
   "execution_count": 20,
   "id": "e1e20c84-e7e5-4f71-8012-640bb77c4ff2",
   "metadata": {
    "tags": []
   },
   "outputs": [
    {
     "data": {
      "text/plain": [
       "{'Size': 8, 'degree': 3, 'State': 10}"
      ]
     },
     "execution_count": 20,
     "metadata": {},
     "output_type": "execute_result"
    }
   ],
   "source": [
    "# Checking unique values for categorical columns\n",
    "\n",
    "unique_values = {}\n",
    "categorical_columns = ['Size', 'degree', 'State']\n",
    "\n",
    "for col in categorical_columns:\n",
    "    unique_values[col] = jobs[col].nunique()\n",
    "\n",
    "unique_values"
   ]
  },
  {
   "cell_type": "code",
   "execution_count": 21,
   "id": "f147378e-002f-48d5-8e32-9e7af1933038",
   "metadata": {
    "tags": []
   },
   "outputs": [
    {
     "data": {
      "text/plain": [
       "{'Size': 8, 'degree': 3, 'State': 10}"
      ]
     },
     "execution_count": 21,
     "metadata": {},
     "output_type": "execute_result"
    }
   ],
   "source": [
    "# Checking unique values for categorical columns\n",
    "\n",
    "unique_values = {}\n",
    "categorical_columns = ['Size', 'degree', 'State']\n",
    "\n",
    "for col in categorical_columns:\n",
    "    unique_values[col] = jobs[col].nunique()\n",
    "\n",
    "unique_values"
   ]
  },
  {
   "cell_type": "code",
   "execution_count": 22,
   "metadata": {},
   "outputs": [
    {
     "data": {
      "text/html": [
       "<div>\n",
       "<style scoped>\n",
       "    .dataframe tbody tr th:only-of-type {\n",
       "        vertical-align: middle;\n",
       "    }\n",
       "\n",
       "    .dataframe tbody tr th {\n",
       "        vertical-align: top;\n",
       "    }\n",
       "\n",
       "    .dataframe thead th {\n",
       "        text-align: right;\n",
       "    }\n",
       "</style>\n",
       "<table border=\"1\" class=\"dataframe\">\n",
       "  <thead>\n",
       "    <tr style=\"text-align: right;\">\n",
       "      <th></th>\n",
       "      <th>Rating</th>\n",
       "      <th>Size</th>\n",
       "      <th>Founded</th>\n",
       "      <th>degree</th>\n",
       "      <th>State</th>\n",
       "      <th>Python</th>\n",
       "      <th>R</th>\n",
       "      <th>SAS</th>\n",
       "      <th>SQL</th>\n",
       "      <th>Excel</th>\n",
       "      <th>Power BI</th>\n",
       "      <th>Tableau</th>\n",
       "      <th>Software Tech</th>\n",
       "      <th>General_Title</th>\n",
       "      <th>Salary_Range_int</th>\n",
       "      <th>Sector_Int</th>\n",
       "      <th>Revenue_Int</th>\n",
       "    </tr>\n",
       "  </thead>\n",
       "  <tbody>\n",
       "    <tr>\n",
       "      <th>0</th>\n",
       "      <td>3.400000</td>\n",
       "      <td>201 to 500 employees</td>\n",
       "      <td>2019.000000</td>\n",
       "      <td>BS</td>\n",
       "      <td>NJ</td>\n",
       "      <td>1</td>\n",
       "      <td>0</td>\n",
       "      <td>1</td>\n",
       "      <td>1</td>\n",
       "      <td>1</td>\n",
       "      <td>1</td>\n",
       "      <td>0</td>\n",
       "      <td>0</td>\n",
       "      <td>Analytics</td>\n",
       "      <td>3</td>\n",
       "      <td>3.0</td>\n",
       "      <td>None</td>\n",
       "    </tr>\n",
       "    <tr>\n",
       "      <th>1</th>\n",
       "      <td>2.900000</td>\n",
       "      <td>201 to 500 employees</td>\n",
       "      <td>1985.000000</td>\n",
       "      <td>BS</td>\n",
       "      <td>NY</td>\n",
       "      <td>1</td>\n",
       "      <td>0</td>\n",
       "      <td>1</td>\n",
       "      <td>1</td>\n",
       "      <td>0</td>\n",
       "      <td>0</td>\n",
       "      <td>0</td>\n",
       "      <td>0</td>\n",
       "      <td>Data Science</td>\n",
       "      <td>3</td>\n",
       "      <td>1.0</td>\n",
       "      <td>None</td>\n",
       "    </tr>\n",
       "    <tr>\n",
       "      <th>2</th>\n",
       "      <td>4.400000</td>\n",
       "      <td>51 to 200 employees</td>\n",
       "      <td>1993.000000</td>\n",
       "      <td>MS</td>\n",
       "      <td>NY</td>\n",
       "      <td>1</td>\n",
       "      <td>0</td>\n",
       "      <td>0</td>\n",
       "      <td>0</td>\n",
       "      <td>1</td>\n",
       "      <td>0</td>\n",
       "      <td>0</td>\n",
       "      <td>1</td>\n",
       "      <td>Quantitative Job</td>\n",
       "      <td>3</td>\n",
       "      <td>1.0</td>\n",
       "      <td>None</td>\n",
       "    </tr>\n",
       "    <tr>\n",
       "      <th>3</th>\n",
       "      <td>3.755592</td>\n",
       "      <td>1 to 50 employees</td>\n",
       "      <td>1967.733688</td>\n",
       "      <td>MS</td>\n",
       "      <td>NY</td>\n",
       "      <td>0</td>\n",
       "      <td>0</td>\n",
       "      <td>0</td>\n",
       "      <td>0</td>\n",
       "      <td>0</td>\n",
       "      <td>0</td>\n",
       "      <td>0</td>\n",
       "      <td>0</td>\n",
       "      <td>Quantitative Job</td>\n",
       "      <td>3</td>\n",
       "      <td>3.0</td>\n",
       "      <td>None</td>\n",
       "    </tr>\n",
       "    <tr>\n",
       "      <th>4</th>\n",
       "      <td>5.000000</td>\n",
       "      <td>1 to 50 employees</td>\n",
       "      <td>2018.000000</td>\n",
       "      <td>MS</td>\n",
       "      <td>NY</td>\n",
       "      <td>1</td>\n",
       "      <td>0</td>\n",
       "      <td>0</td>\n",
       "      <td>0</td>\n",
       "      <td>0</td>\n",
       "      <td>0</td>\n",
       "      <td>0</td>\n",
       "      <td>0</td>\n",
       "      <td>Data Science</td>\n",
       "      <td>3</td>\n",
       "      <td>3.0</td>\n",
       "      <td>None</td>\n",
       "    </tr>\n",
       "  </tbody>\n",
       "</table>\n",
       "</div>"
      ],
      "text/plain": [
       "     Rating                  Size      Founded degree State Python  R SAS SQL  \\\n",
       "0  3.400000  201 to 500 employees  2019.000000     BS    NJ      1  0   1   1   \n",
       "1  2.900000  201 to 500 employees  1985.000000     BS    NY      1  0   1   1   \n",
       "2  4.400000   51 to 200 employees  1993.000000     MS    NY      1  0   0   0   \n",
       "3  3.755592     1 to 50 employees  1967.733688     MS    NY      0  0   0   0   \n",
       "4  5.000000     1 to 50 employees  2018.000000     MS    NY      1  0   0   0   \n",
       "\n",
       "  Excel Power BI Tableau Software Tech     General_Title  Salary_Range_int  \\\n",
       "0     1        1       0             0         Analytics                 3   \n",
       "1     0        0       0             0      Data Science                 3   \n",
       "2     1        0       0             1  Quantitative Job                 3   \n",
       "3     0        0       0             0  Quantitative Job                 3   \n",
       "4     0        0       0             0      Data Science                 3   \n",
       "\n",
       "   Sector_Int Revenue_Int  \n",
       "0         3.0        None  \n",
       "1         1.0        None  \n",
       "2         1.0        None  \n",
       "3         3.0        None  \n",
       "4         3.0        None  "
      ]
     },
     "execution_count": 22,
     "metadata": {},
     "output_type": "execute_result"
    }
   ],
   "source": [
    "jobs.head()"
   ]
  },
  {
   "cell_type": "code",
   "execution_count": 23,
   "id": "89a34e75-de26-476a-ad8f-5fde6781e201",
   "metadata": {
    "tags": []
   },
   "outputs": [],
   "source": [
    "# One-hot encoding the categorical variables\n",
    "jobs_encoded = pd.get_dummies(jobs, columns=['degree', 'State','General_Title','Size']) * 1\n",
    "\n",
    "#jobs_encoded = jobs_encoded * 1  # This converts True/False to 1/0. Only needed in VS Code not sure why. "
   ]
  },
  {
   "cell_type": "markdown",
   "metadata": {},
   "source": [
    "Converting all numerical values to the same type for the model"
   ]
  },
  {
   "cell_type": "code",
   "execution_count": 24,
   "id": "d0e2a04e-c66c-425e-9514-79b9df491289",
   "metadata": {
    "tags": []
   },
   "outputs": [],
   "source": [
    "jobs_encoded = jobs_encoded.astype('float32')"
   ]
  },
  {
   "cell_type": "code",
   "execution_count": 25,
   "id": "efbca955-a15a-4838-bd7b-d79925b4dee2",
   "metadata": {
    "tags": []
   },
   "outputs": [
    {
     "data": {
      "text/html": [
       "<div>\n",
       "<style scoped>\n",
       "    .dataframe tbody tr th:only-of-type {\n",
       "        vertical-align: middle;\n",
       "    }\n",
       "\n",
       "    .dataframe tbody tr th {\n",
       "        vertical-align: top;\n",
       "    }\n",
       "\n",
       "    .dataframe thead th {\n",
       "        text-align: right;\n",
       "    }\n",
       "</style>\n",
       "<table border=\"1\" class=\"dataframe\">\n",
       "  <thead>\n",
       "    <tr style=\"text-align: right;\">\n",
       "      <th></th>\n",
       "      <th>Rating</th>\n",
       "      <th>Python</th>\n",
       "      <th>R</th>\n",
       "      <th>SAS</th>\n",
       "      <th>SQL</th>\n",
       "      <th>Excel</th>\n",
       "      <th>Power BI</th>\n",
       "      <th>Tableau</th>\n",
       "      <th>Software Tech</th>\n",
       "      <th>Sector_Int</th>\n",
       "      <th>...</th>\n",
       "      <th>General_Title_Quantitative Job</th>\n",
       "      <th>General_Title_Senior Jobs</th>\n",
       "      <th>Size_1 to 50 employees</th>\n",
       "      <th>Size_10000+ employees</th>\n",
       "      <th>Size_1001 to 5000 employees</th>\n",
       "      <th>Size_201 to 500 employees</th>\n",
       "      <th>Size_5001 to 10000 employees</th>\n",
       "      <th>Size_501 to 1000 employees</th>\n",
       "      <th>Size_51 to 200 employees</th>\n",
       "      <th>Size_Unknown</th>\n",
       "    </tr>\n",
       "  </thead>\n",
       "  <tbody>\n",
       "    <tr>\n",
       "      <th>0</th>\n",
       "      <td>3.400000</td>\n",
       "      <td>1.0</td>\n",
       "      <td>0.0</td>\n",
       "      <td>1.0</td>\n",
       "      <td>1.0</td>\n",
       "      <td>1.0</td>\n",
       "      <td>1.0</td>\n",
       "      <td>0.0</td>\n",
       "      <td>0.0</td>\n",
       "      <td>3.0</td>\n",
       "      <td>...</td>\n",
       "      <td>0.0</td>\n",
       "      <td>0.0</td>\n",
       "      <td>0.0</td>\n",
       "      <td>0.0</td>\n",
       "      <td>0.0</td>\n",
       "      <td>1.0</td>\n",
       "      <td>0.0</td>\n",
       "      <td>0.0</td>\n",
       "      <td>0.0</td>\n",
       "      <td>0.0</td>\n",
       "    </tr>\n",
       "    <tr>\n",
       "      <th>1</th>\n",
       "      <td>2.900000</td>\n",
       "      <td>1.0</td>\n",
       "      <td>0.0</td>\n",
       "      <td>1.0</td>\n",
       "      <td>1.0</td>\n",
       "      <td>0.0</td>\n",
       "      <td>0.0</td>\n",
       "      <td>0.0</td>\n",
       "      <td>0.0</td>\n",
       "      <td>1.0</td>\n",
       "      <td>...</td>\n",
       "      <td>0.0</td>\n",
       "      <td>0.0</td>\n",
       "      <td>0.0</td>\n",
       "      <td>0.0</td>\n",
       "      <td>0.0</td>\n",
       "      <td>1.0</td>\n",
       "      <td>0.0</td>\n",
       "      <td>0.0</td>\n",
       "      <td>0.0</td>\n",
       "      <td>0.0</td>\n",
       "    </tr>\n",
       "    <tr>\n",
       "      <th>2</th>\n",
       "      <td>4.400000</td>\n",
       "      <td>1.0</td>\n",
       "      <td>0.0</td>\n",
       "      <td>0.0</td>\n",
       "      <td>0.0</td>\n",
       "      <td>1.0</td>\n",
       "      <td>0.0</td>\n",
       "      <td>0.0</td>\n",
       "      <td>1.0</td>\n",
       "      <td>1.0</td>\n",
       "      <td>...</td>\n",
       "      <td>1.0</td>\n",
       "      <td>0.0</td>\n",
       "      <td>0.0</td>\n",
       "      <td>0.0</td>\n",
       "      <td>0.0</td>\n",
       "      <td>0.0</td>\n",
       "      <td>0.0</td>\n",
       "      <td>0.0</td>\n",
       "      <td>1.0</td>\n",
       "      <td>0.0</td>\n",
       "    </tr>\n",
       "    <tr>\n",
       "      <th>3</th>\n",
       "      <td>3.755592</td>\n",
       "      <td>0.0</td>\n",
       "      <td>0.0</td>\n",
       "      <td>0.0</td>\n",
       "      <td>0.0</td>\n",
       "      <td>0.0</td>\n",
       "      <td>0.0</td>\n",
       "      <td>0.0</td>\n",
       "      <td>0.0</td>\n",
       "      <td>3.0</td>\n",
       "      <td>...</td>\n",
       "      <td>1.0</td>\n",
       "      <td>0.0</td>\n",
       "      <td>1.0</td>\n",
       "      <td>0.0</td>\n",
       "      <td>0.0</td>\n",
       "      <td>0.0</td>\n",
       "      <td>0.0</td>\n",
       "      <td>0.0</td>\n",
       "      <td>0.0</td>\n",
       "      <td>0.0</td>\n",
       "    </tr>\n",
       "    <tr>\n",
       "      <th>4</th>\n",
       "      <td>5.000000</td>\n",
       "      <td>1.0</td>\n",
       "      <td>0.0</td>\n",
       "      <td>0.0</td>\n",
       "      <td>0.0</td>\n",
       "      <td>0.0</td>\n",
       "      <td>0.0</td>\n",
       "      <td>0.0</td>\n",
       "      <td>0.0</td>\n",
       "      <td>3.0</td>\n",
       "      <td>...</td>\n",
       "      <td>0.0</td>\n",
       "      <td>0.0</td>\n",
       "      <td>1.0</td>\n",
       "      <td>0.0</td>\n",
       "      <td>0.0</td>\n",
       "      <td>0.0</td>\n",
       "      <td>0.0</td>\n",
       "      <td>0.0</td>\n",
       "      <td>0.0</td>\n",
       "      <td>0.0</td>\n",
       "    </tr>\n",
       "  </tbody>\n",
       "</table>\n",
       "<p>5 rows × 39 columns</p>\n",
       "</div>"
      ],
      "text/plain": [
       "     Rating  Python    R  SAS  SQL  Excel  Power BI  Tableau  Software Tech  \\\n",
       "0  3.400000     1.0  0.0  1.0  1.0    1.0       1.0      0.0            0.0   \n",
       "1  2.900000     1.0  0.0  1.0  1.0    0.0       0.0      0.0            0.0   \n",
       "2  4.400000     1.0  0.0  0.0  0.0    1.0       0.0      0.0            1.0   \n",
       "3  3.755592     0.0  0.0  0.0  0.0    0.0       0.0      0.0            0.0   \n",
       "4  5.000000     1.0  0.0  0.0  0.0    0.0       0.0      0.0            0.0   \n",
       "\n",
       "   Sector_Int  ...  General_Title_Quantitative Job  General_Title_Senior Jobs  \\\n",
       "0         3.0  ...                             0.0                        0.0   \n",
       "1         1.0  ...                             0.0                        0.0   \n",
       "2         1.0  ...                             1.0                        0.0   \n",
       "3         3.0  ...                             1.0                        0.0   \n",
       "4         3.0  ...                             0.0                        0.0   \n",
       "\n",
       "   Size_1 to 50 employees  Size_10000+ employees  Size_1001 to 5000 employees  \\\n",
       "0                     0.0                    0.0                          0.0   \n",
       "1                     0.0                    0.0                          0.0   \n",
       "2                     0.0                    0.0                          0.0   \n",
       "3                     1.0                    0.0                          0.0   \n",
       "4                     1.0                    0.0                          0.0   \n",
       "\n",
       "   Size_201 to 500 employees  Size_5001 to 10000 employees  \\\n",
       "0                        1.0                           0.0   \n",
       "1                        1.0                           0.0   \n",
       "2                        0.0                           0.0   \n",
       "3                        0.0                           0.0   \n",
       "4                        0.0                           0.0   \n",
       "\n",
       "   Size_501 to 1000 employees  Size_51 to 200 employees  Size_Unknown  \n",
       "0                         0.0                       0.0           0.0  \n",
       "1                         0.0                       0.0           0.0  \n",
       "2                         0.0                       1.0           0.0  \n",
       "3                         0.0                       0.0           0.0  \n",
       "4                         0.0                       0.0           0.0  \n",
       "\n",
       "[5 rows x 39 columns]"
      ]
     },
     "execution_count": 25,
     "metadata": {},
     "output_type": "execute_result"
    }
   ],
   "source": [
    "# Separating features and target variable\n",
    "X = jobs_encoded.drop(columns=['Salary_Range_int','Revenue_Int','Founded']).copy()\n",
    "y = jobs_encoded['Salary_Range_int'].copy()\n",
    "X.head()"
   ]
  },
  {
   "cell_type": "code",
   "execution_count": 26,
   "id": "e8d87368-6205-4b7a-af86-46b44117e472",
   "metadata": {
    "tags": []
   },
   "outputs": [
    {
     "data": {
      "text/plain": [
       "((2150, 39), (538, 39), (2150,), (538,))"
      ]
     },
     "execution_count": 26,
     "metadata": {},
     "output_type": "execute_result"
    }
   ],
   "source": [
    "X_train, X_test, y_train, y_test = train_test_split(X, y, test_size=0.2, random_state=42)\n",
    "\n",
    "X_train.shape, X_test.shape, y_train.shape, y_test.shape"
   ]
  },
  {
   "cell_type": "code",
   "execution_count": 50,
   "id": "c13fd712-7294-4f1f-b606-e09e2e876197",
   "metadata": {
    "tags": []
   },
   "outputs": [],
   "source": [
    "model = Sequential([\n",
    "    Dense(units=500, activation='relu'),\n",
    "    Dense(units=200, activation='relu'),\n",
    "    Dense(units=80, activation='relu'),\n",
    "    Dense(units=5, activation='linear')\n",
    "])"
   ]
  },
  {
   "cell_type": "code",
   "execution_count": 28,
   "id": "40f46336-0c84-4fad-ae2d-073b7c329f23",
   "metadata": {
    "jupyter": {
     "source_hidden": true
    },
    "tags": []
   },
   "outputs": [],
   "source": [
    "from tensorflow.keras.losses import SparseCategoricalCrossentropy"
   ]
  },
  {
   "cell_type": "code",
   "execution_count": 51,
   "id": "96484b27-6e9a-4e8b-ac63-8b230dc05cda",
   "metadata": {
    "tags": []
   },
   "outputs": [],
   "source": [
    "model.compile(\n",
    "    loss=tf.keras.losses.SparseCategoricalCrossentropy(from_logits=True),  \n",
    "    optimizer=tf.keras.optimizers.Adam(0.001),\n",
    ")"
   ]
  },
  {
   "cell_type": "code",
   "execution_count": 52,
   "id": "cecb6bd1-abf3-4e7f-ac54-a0389eb9035b",
   "metadata": {
    "collapsed": true,
    "jupyter": {
     "outputs_hidden": true
    },
    "tags": []
   },
   "outputs": [
    {
     "name": "stdout",
     "output_type": "stream",
     "text": [
      "Epoch 1/500\n",
      "68/68 [==============================] - 1s 3ms/step - loss: 1.5145\n",
      "Epoch 2/500\n",
      "68/68 [==============================] - 0s 2ms/step - loss: 1.3851\n",
      "Epoch 3/500\n",
      "68/68 [==============================] - 0s 2ms/step - loss: 1.3521\n",
      "Epoch 4/500\n",
      "68/68 [==============================] - 0s 2ms/step - loss: 1.3263\n",
      "Epoch 5/500\n",
      "68/68 [==============================] - 0s 2ms/step - loss: 1.2865\n",
      "Epoch 6/500\n",
      "68/68 [==============================] - 0s 3ms/step - loss: 1.2657\n",
      "Epoch 7/500\n",
      "68/68 [==============================] - 0s 3ms/step - loss: 1.2413\n",
      "Epoch 8/500\n",
      "68/68 [==============================] - 0s 3ms/step - loss: 1.2218\n",
      "Epoch 9/500\n",
      "68/68 [==============================] - 0s 2ms/step - loss: 1.1854\n",
      "Epoch 10/500\n",
      "68/68 [==============================] - 0s 2ms/step - loss: 1.1466\n",
      "Epoch 11/500\n",
      "68/68 [==============================] - 0s 2ms/step - loss: 1.1189\n",
      "Epoch 12/500\n",
      "68/68 [==============================] - 0s 2ms/step - loss: 1.0959\n",
      "Epoch 13/500\n",
      "68/68 [==============================] - 0s 2ms/step - loss: 1.0406\n",
      "Epoch 14/500\n",
      "68/68 [==============================] - 0s 2ms/step - loss: 1.0178\n",
      "Epoch 15/500\n",
      "68/68 [==============================] - 0s 2ms/step - loss: 0.9732\n",
      "Epoch 16/500\n",
      "68/68 [==============================] - 0s 2ms/step - loss: 0.9336\n",
      "Epoch 17/500\n",
      "68/68 [==============================] - 0s 2ms/step - loss: 0.8954\n",
      "Epoch 18/500\n",
      "68/68 [==============================] - 0s 3ms/step - loss: 0.8663\n",
      "Epoch 19/500\n",
      "68/68 [==============================] - 0s 2ms/step - loss: 0.8154\n",
      "Epoch 20/500\n",
      "68/68 [==============================] - 0s 2ms/step - loss: 0.7708\n",
      "Epoch 21/500\n",
      "68/68 [==============================] - 0s 2ms/step - loss: 0.7471\n",
      "Epoch 22/500\n",
      "68/68 [==============================] - 0s 2ms/step - loss: 0.7152\n",
      "Epoch 23/500\n",
      "68/68 [==============================] - 0s 2ms/step - loss: 0.6735\n",
      "Epoch 24/500\n",
      "68/68 [==============================] - 0s 2ms/step - loss: 0.6414\n",
      "Epoch 25/500\n",
      "68/68 [==============================] - 0s 3ms/step - loss: 0.6334\n",
      "Epoch 26/500\n",
      "68/68 [==============================] - 0s 2ms/step - loss: 0.5864\n",
      "Epoch 27/500\n",
      "68/68 [==============================] - 0s 3ms/step - loss: 0.5811\n",
      "Epoch 28/500\n",
      "68/68 [==============================] - 0s 2ms/step - loss: 0.5513\n",
      "Epoch 29/500\n",
      "68/68 [==============================] - 0s 3ms/step - loss: 0.5572\n",
      "Epoch 30/500\n",
      "68/68 [==============================] - 0s 3ms/step - loss: 0.5125\n",
      "Epoch 31/500\n",
      "68/68 [==============================] - 0s 3ms/step - loss: 0.5045\n",
      "Epoch 32/500\n",
      "68/68 [==============================] - 0s 2ms/step - loss: 0.4802\n",
      "Epoch 33/500\n",
      "68/68 [==============================] - 0s 3ms/step - loss: 0.4652\n",
      "Epoch 34/500\n",
      "68/68 [==============================] - 0s 2ms/step - loss: 0.4694\n",
      "Epoch 35/500\n",
      "68/68 [==============================] - 0s 2ms/step - loss: 0.4361\n",
      "Epoch 36/500\n",
      "68/68 [==============================] - 0s 2ms/step - loss: 0.4493\n",
      "Epoch 37/500\n",
      "68/68 [==============================] - 0s 2ms/step - loss: 0.4243\n",
      "Epoch 38/500\n",
      "68/68 [==============================] - 0s 3ms/step - loss: 0.4254\n",
      "Epoch 39/500\n",
      "68/68 [==============================] - 0s 2ms/step - loss: 0.3938\n",
      "Epoch 40/500\n",
      "68/68 [==============================] - 0s 2ms/step - loss: 0.3824\n",
      "Epoch 41/500\n",
      "68/68 [==============================] - 0s 2ms/step - loss: 0.3706\n",
      "Epoch 42/500\n",
      "68/68 [==============================] - 0s 2ms/step - loss: 0.3894\n",
      "Epoch 43/500\n",
      "68/68 [==============================] - 0s 2ms/step - loss: 0.3684\n",
      "Epoch 44/500\n",
      "68/68 [==============================] - 0s 2ms/step - loss: 0.3475\n",
      "Epoch 45/500\n",
      "68/68 [==============================] - 0s 3ms/step - loss: 0.3480\n",
      "Epoch 46/500\n",
      "68/68 [==============================] - 0s 2ms/step - loss: 0.3469\n",
      "Epoch 47/500\n",
      "68/68 [==============================] - 0s 2ms/step - loss: 0.3370\n",
      "Epoch 48/500\n",
      "68/68 [==============================] - 0s 2ms/step - loss: 0.3521\n",
      "Epoch 49/500\n",
      "68/68 [==============================] - 0s 2ms/step - loss: 0.3209\n",
      "Epoch 50/500\n",
      "68/68 [==============================] - 0s 2ms/step - loss: 0.3249\n",
      "Epoch 51/500\n",
      "68/68 [==============================] - 0s 2ms/step - loss: 0.3350\n",
      "Epoch 52/500\n",
      "68/68 [==============================] - 0s 2ms/step - loss: 0.3235\n",
      "Epoch 53/500\n",
      "68/68 [==============================] - 0s 3ms/step - loss: 0.3203\n",
      "Epoch 54/500\n",
      "68/68 [==============================] - 0s 3ms/step - loss: 0.3052\n",
      "Epoch 55/500\n",
      "68/68 [==============================] - 0s 3ms/step - loss: 0.3128\n",
      "Epoch 56/500\n",
      "68/68 [==============================] - 0s 3ms/step - loss: 0.3061\n",
      "Epoch 57/500\n",
      "68/68 [==============================] - 0s 3ms/step - loss: 0.3104\n",
      "Epoch 58/500\n",
      "68/68 [==============================] - 0s 3ms/step - loss: 0.3041\n",
      "Epoch 59/500\n",
      "68/68 [==============================] - 0s 3ms/step - loss: 0.3035\n",
      "Epoch 60/500\n",
      "68/68 [==============================] - 0s 3ms/step - loss: 0.2961\n",
      "Epoch 61/500\n",
      "68/68 [==============================] - 0s 2ms/step - loss: 0.2888\n",
      "Epoch 62/500\n",
      "68/68 [==============================] - 0s 3ms/step - loss: 0.2956\n",
      "Epoch 63/500\n",
      "68/68 [==============================] - 0s 3ms/step - loss: 0.2928\n",
      "Epoch 64/500\n",
      "68/68 [==============================] - 0s 3ms/step - loss: 0.2951\n",
      "Epoch 65/500\n",
      "68/68 [==============================] - 0s 3ms/step - loss: 0.2870\n",
      "Epoch 66/500\n",
      "68/68 [==============================] - 0s 2ms/step - loss: 0.2806\n",
      "Epoch 67/500\n",
      "68/68 [==============================] - 0s 3ms/step - loss: 0.2824\n",
      "Epoch 68/500\n",
      "68/68 [==============================] - 0s 3ms/step - loss: 0.2766\n",
      "Epoch 69/500\n",
      "68/68 [==============================] - 0s 3ms/step - loss: 0.2839\n",
      "Epoch 70/500\n",
      "68/68 [==============================] - 0s 3ms/step - loss: 0.2832\n",
      "Epoch 71/500\n",
      "68/68 [==============================] - 0s 3ms/step - loss: 0.2802\n",
      "Epoch 72/500\n",
      "68/68 [==============================] - 0s 3ms/step - loss: 0.2774\n",
      "Epoch 73/500\n",
      "68/68 [==============================] - 0s 3ms/step - loss: 0.2771\n",
      "Epoch 74/500\n",
      "68/68 [==============================] - 0s 2ms/step - loss: 0.2846\n",
      "Epoch 75/500\n",
      "68/68 [==============================] - 0s 3ms/step - loss: 0.2816\n",
      "Epoch 76/500\n",
      "68/68 [==============================] - 0s 3ms/step - loss: 0.2658\n",
      "Epoch 77/500\n",
      "68/68 [==============================] - 0s 3ms/step - loss: 0.2766\n",
      "Epoch 78/500\n",
      "68/68 [==============================] - 0s 3ms/step - loss: 0.2771\n",
      "Epoch 79/500\n",
      "68/68 [==============================] - 0s 3ms/step - loss: 0.2649\n",
      "Epoch 80/500\n",
      "68/68 [==============================] - 0s 3ms/step - loss: 0.2663\n",
      "Epoch 81/500\n",
      "68/68 [==============================] - 0s 3ms/step - loss: 0.2600\n",
      "Epoch 82/500\n",
      "68/68 [==============================] - 0s 3ms/step - loss: 0.2595\n",
      "Epoch 83/500\n",
      "68/68 [==============================] - 0s 3ms/step - loss: 0.2647\n",
      "Epoch 84/500\n",
      "68/68 [==============================] - 0s 3ms/step - loss: 0.2565\n",
      "Epoch 85/500\n",
      "68/68 [==============================] - 0s 3ms/step - loss: 0.2675\n",
      "Epoch 86/500\n",
      "68/68 [==============================] - 0s 3ms/step - loss: 0.2478\n",
      "Epoch 87/500\n",
      "68/68 [==============================] - 0s 3ms/step - loss: 0.2616\n",
      "Epoch 88/500\n",
      "68/68 [==============================] - 0s 3ms/step - loss: 0.2552\n",
      "Epoch 89/500\n",
      "68/68 [==============================] - 0s 3ms/step - loss: 0.2565\n",
      "Epoch 90/500\n",
      "68/68 [==============================] - 0s 3ms/step - loss: 0.2624\n",
      "Epoch 91/500\n",
      "68/68 [==============================] - 0s 3ms/step - loss: 0.2444\n",
      "Epoch 92/500\n",
      "68/68 [==============================] - 0s 3ms/step - loss: 0.2516\n",
      "Epoch 93/500\n",
      "68/68 [==============================] - 0s 3ms/step - loss: 0.2471\n",
      "Epoch 94/500\n",
      "68/68 [==============================] - 0s 3ms/step - loss: 0.2447\n",
      "Epoch 95/500\n",
      "68/68 [==============================] - 0s 3ms/step - loss: 0.2428\n",
      "Epoch 96/500\n",
      "68/68 [==============================] - 0s 3ms/step - loss: 0.2599\n",
      "Epoch 97/500\n",
      "68/68 [==============================] - 0s 4ms/step - loss: 0.2456\n",
      "Epoch 98/500\n",
      "68/68 [==============================] - 0s 3ms/step - loss: 0.2416\n",
      "Epoch 99/500\n",
      "68/68 [==============================] - 0s 3ms/step - loss: 0.2462\n",
      "Epoch 100/500\n",
      "68/68 [==============================] - 0s 3ms/step - loss: 0.2402\n",
      "Epoch 101/500\n",
      "68/68 [==============================] - 0s 3ms/step - loss: 0.2342\n",
      "Epoch 102/500\n",
      "68/68 [==============================] - 0s 3ms/step - loss: 0.2362\n",
      "Epoch 103/500\n",
      "68/68 [==============================] - 0s 3ms/step - loss: 0.2451\n",
      "Epoch 104/500\n",
      "68/68 [==============================] - 0s 3ms/step - loss: 0.2516\n",
      "Epoch 105/500\n",
      "68/68 [==============================] - 0s 3ms/step - loss: 0.2416\n",
      "Epoch 106/500\n",
      "68/68 [==============================] - 0s 3ms/step - loss: 0.2387\n",
      "Epoch 107/500\n",
      "68/68 [==============================] - 0s 3ms/step - loss: 0.2339\n",
      "Epoch 108/500\n",
      "68/68 [==============================] - 0s 3ms/step - loss: 0.2338\n",
      "Epoch 109/500\n",
      "68/68 [==============================] - 0s 3ms/step - loss: 0.2371\n",
      "Epoch 110/500\n",
      "68/68 [==============================] - 0s 2ms/step - loss: 0.2375\n",
      "Epoch 111/500\n",
      "68/68 [==============================] - 0s 2ms/step - loss: 0.2346\n",
      "Epoch 112/500\n",
      "68/68 [==============================] - 0s 2ms/step - loss: 0.2514\n",
      "Epoch 113/500\n",
      "68/68 [==============================] - 0s 2ms/step - loss: 0.2284\n",
      "Epoch 114/500\n",
      "68/68 [==============================] - 0s 2ms/step - loss: 0.2503\n",
      "Epoch 115/500\n",
      "68/68 [==============================] - 0s 2ms/step - loss: 0.2295\n",
      "Epoch 116/500\n",
      "68/68 [==============================] - 0s 2ms/step - loss: 0.2304\n",
      "Epoch 117/500\n",
      "68/68 [==============================] - 0s 2ms/step - loss: 0.2330\n",
      "Epoch 118/500\n",
      "68/68 [==============================] - 0s 2ms/step - loss: 0.2251\n",
      "Epoch 119/500\n",
      "68/68 [==============================] - 0s 2ms/step - loss: 0.2313\n",
      "Epoch 120/500\n",
      "68/68 [==============================] - 0s 2ms/step - loss: 0.2212\n",
      "Epoch 121/500\n",
      "68/68 [==============================] - 0s 2ms/step - loss: 0.2181\n",
      "Epoch 122/500\n",
      "68/68 [==============================] - 0s 2ms/step - loss: 0.2232\n",
      "Epoch 123/500\n",
      "68/68 [==============================] - 0s 2ms/step - loss: 0.2209\n",
      "Epoch 124/500\n",
      "68/68 [==============================] - 0s 2ms/step - loss: 0.2194\n",
      "Epoch 125/500\n",
      "68/68 [==============================] - 0s 2ms/step - loss: 0.2198\n",
      "Epoch 126/500\n",
      "68/68 [==============================] - 0s 2ms/step - loss: 0.2217\n",
      "Epoch 127/500\n",
      "68/68 [==============================] - 0s 2ms/step - loss: 0.2264\n",
      "Epoch 128/500\n",
      "68/68 [==============================] - 0s 2ms/step - loss: 0.2200\n",
      "Epoch 129/500\n",
      "68/68 [==============================] - 0s 2ms/step - loss: 0.2182\n",
      "Epoch 130/500\n",
      "68/68 [==============================] - 0s 2ms/step - loss: 0.2099\n",
      "Epoch 131/500\n",
      "68/68 [==============================] - 0s 2ms/step - loss: 0.2123\n",
      "Epoch 132/500\n",
      "68/68 [==============================] - 0s 2ms/step - loss: 0.2089\n",
      "Epoch 133/500\n",
      "68/68 [==============================] - 0s 2ms/step - loss: 0.2176\n",
      "Epoch 134/500\n",
      "68/68 [==============================] - 0s 2ms/step - loss: 0.2198\n",
      "Epoch 135/500\n",
      "68/68 [==============================] - 0s 2ms/step - loss: 0.2148\n",
      "Epoch 136/500\n",
      "68/68 [==============================] - 0s 2ms/step - loss: 0.2162\n",
      "Epoch 137/500\n",
      "68/68 [==============================] - 0s 2ms/step - loss: 0.2112\n",
      "Epoch 138/500\n",
      "68/68 [==============================] - 0s 3ms/step - loss: 0.2098\n",
      "Epoch 139/500\n",
      "68/68 [==============================] - 0s 2ms/step - loss: 0.2301\n",
      "Epoch 140/500\n",
      "68/68 [==============================] - 0s 2ms/step - loss: 0.2197\n",
      "Epoch 141/500\n",
      "68/68 [==============================] - 0s 2ms/step - loss: 0.2237\n",
      "Epoch 142/500\n",
      "68/68 [==============================] - 0s 2ms/step - loss: 0.2298\n",
      "Epoch 143/500\n",
      "68/68 [==============================] - 0s 2ms/step - loss: 0.2390\n",
      "Epoch 144/500\n",
      "68/68 [==============================] - 0s 2ms/step - loss: 0.2593\n",
      "Epoch 145/500\n",
      "68/68 [==============================] - 0s 2ms/step - loss: 0.2346\n",
      "Epoch 146/500\n",
      "68/68 [==============================] - 0s 2ms/step - loss: 0.2197\n",
      "Epoch 147/500\n",
      "68/68 [==============================] - 0s 2ms/step - loss: 0.2165\n",
      "Epoch 148/500\n",
      "68/68 [==============================] - 0s 2ms/step - loss: 0.2175\n",
      "Epoch 149/500\n",
      "68/68 [==============================] - 0s 2ms/step - loss: 0.2285\n",
      "Epoch 150/500\n",
      "68/68 [==============================] - 0s 2ms/step - loss: 0.2168\n",
      "Epoch 151/500\n",
      "68/68 [==============================] - 0s 2ms/step - loss: 0.2105\n",
      "Epoch 152/500\n",
      "68/68 [==============================] - 0s 2ms/step - loss: 0.2030\n",
      "Epoch 153/500\n",
      "68/68 [==============================] - 0s 2ms/step - loss: 0.2033\n",
      "Epoch 154/500\n",
      "68/68 [==============================] - 0s 2ms/step - loss: 0.1988\n",
      "Epoch 155/500\n",
      "68/68 [==============================] - 0s 2ms/step - loss: 0.2052\n",
      "Epoch 156/500\n",
      "68/68 [==============================] - 0s 2ms/step - loss: 0.1937\n",
      "Epoch 157/500\n",
      "68/68 [==============================] - 0s 2ms/step - loss: 0.1966\n",
      "Epoch 158/500\n",
      "68/68 [==============================] - 0s 2ms/step - loss: 0.1948\n",
      "Epoch 159/500\n",
      "68/68 [==============================] - 0s 2ms/step - loss: 0.2018\n",
      "Epoch 160/500\n",
      "68/68 [==============================] - 0s 2ms/step - loss: 0.1999\n",
      "Epoch 161/500\n",
      "68/68 [==============================] - 0s 2ms/step - loss: 0.2040\n",
      "Epoch 162/500\n",
      "68/68 [==============================] - 0s 2ms/step - loss: 0.2123\n",
      "Epoch 163/500\n",
      "68/68 [==============================] - 0s 2ms/step - loss: 0.2115\n",
      "Epoch 164/500\n",
      "68/68 [==============================] - 0s 3ms/step - loss: 0.2135\n",
      "Epoch 165/500\n",
      "68/68 [==============================] - 0s 3ms/step - loss: 0.2130\n",
      "Epoch 166/500\n",
      "68/68 [==============================] - 0s 3ms/step - loss: 0.2481\n",
      "Epoch 167/500\n",
      "68/68 [==============================] - 0s 3ms/step - loss: 0.2137\n",
      "Epoch 168/500\n",
      "68/68 [==============================] - 0s 3ms/step - loss: 0.1978\n",
      "Epoch 169/500\n",
      "68/68 [==============================] - 0s 3ms/step - loss: 0.1999\n",
      "Epoch 170/500\n",
      "68/68 [==============================] - 0s 3ms/step - loss: 0.1938\n",
      "Epoch 171/500\n",
      "68/68 [==============================] - 0s 2ms/step - loss: 0.1931\n",
      "Epoch 172/500\n",
      "68/68 [==============================] - 0s 3ms/step - loss: 0.1984\n",
      "Epoch 173/500\n",
      "68/68 [==============================] - 0s 3ms/step - loss: 0.2040\n",
      "Epoch 174/500\n",
      "68/68 [==============================] - 0s 3ms/step - loss: 0.2116\n",
      "Epoch 175/500\n",
      "68/68 [==============================] - 0s 2ms/step - loss: 0.2124\n",
      "Epoch 176/500\n",
      "68/68 [==============================] - 0s 3ms/step - loss: 0.2184\n",
      "Epoch 177/500\n",
      "68/68 [==============================] - 0s 2ms/step - loss: 0.2074\n",
      "Epoch 178/500\n",
      "68/68 [==============================] - 0s 3ms/step - loss: 0.1995\n",
      "Epoch 179/500\n",
      "68/68 [==============================] - 0s 3ms/step - loss: 0.1904\n",
      "Epoch 180/500\n",
      "68/68 [==============================] - 0s 3ms/step - loss: 0.1897\n",
      "Epoch 181/500\n",
      "68/68 [==============================] - 0s 3ms/step - loss: 0.1981\n",
      "Epoch 182/500\n",
      "68/68 [==============================] - 0s 3ms/step - loss: 0.1926\n",
      "Epoch 183/500\n",
      "68/68 [==============================] - 0s 3ms/step - loss: 0.1872\n",
      "Epoch 184/500\n",
      "68/68 [==============================] - 0s 3ms/step - loss: 0.1864\n",
      "Epoch 185/500\n",
      "68/68 [==============================] - 0s 3ms/step - loss: 0.1886\n",
      "Epoch 186/500\n",
      "68/68 [==============================] - 0s 3ms/step - loss: 0.1910\n",
      "Epoch 187/500\n",
      "68/68 [==============================] - 0s 3ms/step - loss: 0.1876\n",
      "Epoch 188/500\n",
      "68/68 [==============================] - 0s 3ms/step - loss: 0.1893\n",
      "Epoch 189/500\n",
      "68/68 [==============================] - 0s 3ms/step - loss: 0.1843\n",
      "Epoch 190/500\n",
      "68/68 [==============================] - 0s 3ms/step - loss: 0.1894\n",
      "Epoch 191/500\n",
      "68/68 [==============================] - 0s 3ms/step - loss: 0.2138\n",
      "Epoch 192/500\n",
      "68/68 [==============================] - 0s 3ms/step - loss: 0.2699\n",
      "Epoch 193/500\n",
      "68/68 [==============================] - 0s 3ms/step - loss: 0.2477\n",
      "Epoch 194/500\n",
      "68/68 [==============================] - 0s 3ms/step - loss: 0.2788\n",
      "Epoch 195/500\n",
      "68/68 [==============================] - 0s 3ms/step - loss: 0.2407\n",
      "Epoch 196/500\n",
      "68/68 [==============================] - 0s 3ms/step - loss: 0.1891\n",
      "Epoch 197/500\n",
      "68/68 [==============================] - 0s 3ms/step - loss: 0.1932\n",
      "Epoch 198/500\n",
      "68/68 [==============================] - 0s 3ms/step - loss: 0.1959\n",
      "Epoch 199/500\n",
      "68/68 [==============================] - 0s 3ms/step - loss: 0.1856\n",
      "Epoch 200/500\n",
      "68/68 [==============================] - 0s 3ms/step - loss: 0.1852\n",
      "Epoch 201/500\n",
      "68/68 [==============================] - 0s 3ms/step - loss: 0.1879\n",
      "Epoch 202/500\n",
      "68/68 [==============================] - 0s 3ms/step - loss: 0.1833\n",
      "Epoch 203/500\n",
      "68/68 [==============================] - 0s 3ms/step - loss: 0.1792\n",
      "Epoch 204/500\n",
      "68/68 [==============================] - 0s 3ms/step - loss: 0.1851\n",
      "Epoch 205/500\n",
      "68/68 [==============================] - 0s 3ms/step - loss: 0.1835\n",
      "Epoch 206/500\n",
      "68/68 [==============================] - 0s 3ms/step - loss: 0.1785\n",
      "Epoch 207/500\n",
      "68/68 [==============================] - 0s 3ms/step - loss: 0.1793\n",
      "Epoch 208/500\n",
      "68/68 [==============================] - 0s 3ms/step - loss: 0.1787\n",
      "Epoch 209/500\n",
      "68/68 [==============================] - 0s 2ms/step - loss: 0.1850\n",
      "Epoch 210/500\n",
      "68/68 [==============================] - 0s 2ms/step - loss: 0.1841\n",
      "Epoch 211/500\n",
      "68/68 [==============================] - 0s 2ms/step - loss: 0.1865\n",
      "Epoch 212/500\n",
      "68/68 [==============================] - 0s 2ms/step - loss: 0.1826\n",
      "Epoch 213/500\n",
      "68/68 [==============================] - 0s 2ms/step - loss: 0.1840\n",
      "Epoch 214/500\n",
      "68/68 [==============================] - 0s 2ms/step - loss: 0.1836\n",
      "Epoch 215/500\n",
      "68/68 [==============================] - 0s 2ms/step - loss: 0.1853\n",
      "Epoch 216/500\n",
      "68/68 [==============================] - 0s 2ms/step - loss: 0.1915\n",
      "Epoch 217/500\n",
      "68/68 [==============================] - 0s 2ms/step - loss: 0.1940\n",
      "Epoch 218/500\n",
      "68/68 [==============================] - 0s 2ms/step - loss: 0.1861\n",
      "Epoch 219/500\n",
      "68/68 [==============================] - 0s 2ms/step - loss: 0.1798\n",
      "Epoch 220/500\n",
      "68/68 [==============================] - 0s 2ms/step - loss: 0.1880\n",
      "Epoch 221/500\n",
      "68/68 [==============================] - 0s 2ms/step - loss: 0.1881\n",
      "Epoch 222/500\n",
      "68/68 [==============================] - 0s 2ms/step - loss: 0.1943\n",
      "Epoch 223/500\n",
      "68/68 [==============================] - 0s 2ms/step - loss: 0.1825\n",
      "Epoch 224/500\n",
      "68/68 [==============================] - 0s 2ms/step - loss: 0.1819\n",
      "Epoch 225/500\n",
      "68/68 [==============================] - 0s 2ms/step - loss: 0.1868\n",
      "Epoch 226/500\n",
      "68/68 [==============================] - 0s 2ms/step - loss: 0.1898\n",
      "Epoch 227/500\n",
      "68/68 [==============================] - 0s 2ms/step - loss: 0.1844\n",
      "Epoch 228/500\n",
      "68/68 [==============================] - 0s 2ms/step - loss: 0.1871\n",
      "Epoch 229/500\n",
      "68/68 [==============================] - 0s 2ms/step - loss: 0.1854\n",
      "Epoch 230/500\n",
      "68/68 [==============================] - 0s 2ms/step - loss: 0.1839\n",
      "Epoch 231/500\n",
      "68/68 [==============================] - 0s 2ms/step - loss: 0.1823\n",
      "Epoch 232/500\n",
      "68/68 [==============================] - 0s 2ms/step - loss: 0.1845\n",
      "Epoch 233/500\n",
      "68/68 [==============================] - 0s 2ms/step - loss: 0.1793\n",
      "Epoch 234/500\n",
      "68/68 [==============================] - 0s 2ms/step - loss: 0.1886\n",
      "Epoch 235/500\n",
      "68/68 [==============================] - 0s 2ms/step - loss: 0.1847\n",
      "Epoch 236/500\n",
      "68/68 [==============================] - 0s 2ms/step - loss: 0.1786\n",
      "Epoch 237/500\n",
      "68/68 [==============================] - 0s 2ms/step - loss: 0.1952\n",
      "Epoch 238/500\n",
      "68/68 [==============================] - 0s 2ms/step - loss: 0.1954\n",
      "Epoch 239/500\n",
      "68/68 [==============================] - 0s 2ms/step - loss: 0.2077\n",
      "Epoch 240/500\n",
      "68/68 [==============================] - 0s 3ms/step - loss: 0.2936\n",
      "Epoch 241/500\n",
      "68/68 [==============================] - 0s 3ms/step - loss: 0.2972\n",
      "Epoch 242/500\n",
      "68/68 [==============================] - 0s 2ms/step - loss: 0.2272\n",
      "Epoch 243/500\n",
      "68/68 [==============================] - 0s 2ms/step - loss: 0.2002\n",
      "Epoch 244/500\n",
      "68/68 [==============================] - 0s 2ms/step - loss: 0.1944\n",
      "Epoch 245/500\n",
      "68/68 [==============================] - 0s 2ms/step - loss: 0.1775\n",
      "Epoch 246/500\n",
      "68/68 [==============================] - 0s 2ms/step - loss: 0.1737\n",
      "Epoch 247/500\n",
      "68/68 [==============================] - 0s 2ms/step - loss: 0.1699\n",
      "Epoch 248/500\n",
      "68/68 [==============================] - 0s 2ms/step - loss: 0.1725\n",
      "Epoch 249/500\n",
      "68/68 [==============================] - 0s 2ms/step - loss: 0.1695\n",
      "Epoch 250/500\n",
      "68/68 [==============================] - 0s 2ms/step - loss: 0.1730\n",
      "Epoch 251/500\n",
      "68/68 [==============================] - 0s 2ms/step - loss: 0.1728\n",
      "Epoch 252/500\n",
      "68/68 [==============================] - 0s 2ms/step - loss: 0.1734\n",
      "Epoch 253/500\n",
      "68/68 [==============================] - 0s 2ms/step - loss: 0.1715\n",
      "Epoch 254/500\n",
      "68/68 [==============================] - 0s 2ms/step - loss: 0.1727\n",
      "Epoch 255/500\n",
      "68/68 [==============================] - 0s 2ms/step - loss: 0.1716\n",
      "Epoch 256/500\n",
      "68/68 [==============================] - 0s 2ms/step - loss: 0.1760\n",
      "Epoch 257/500\n",
      "68/68 [==============================] - 0s 2ms/step - loss: 0.1748\n",
      "Epoch 258/500\n",
      "68/68 [==============================] - 0s 2ms/step - loss: 0.1700\n",
      "Epoch 259/500\n",
      "68/68 [==============================] - 0s 2ms/step - loss: 0.1719\n",
      "Epoch 260/500\n",
      "68/68 [==============================] - 0s 2ms/step - loss: 0.1713\n",
      "Epoch 261/500\n",
      "68/68 [==============================] - 0s 2ms/step - loss: 0.1729\n",
      "Epoch 262/500\n",
      "68/68 [==============================] - 0s 2ms/step - loss: 0.1767\n",
      "Epoch 263/500\n",
      "68/68 [==============================] - 0s 2ms/step - loss: 0.1785\n",
      "Epoch 264/500\n",
      "68/68 [==============================] - 0s 2ms/step - loss: 0.1789\n",
      "Epoch 265/500\n",
      "68/68 [==============================] - 0s 2ms/step - loss: 0.1879\n",
      "Epoch 266/500\n",
      "68/68 [==============================] - 0s 2ms/step - loss: 0.1996\n",
      "Epoch 267/500\n",
      "68/68 [==============================] - 0s 2ms/step - loss: 0.1880\n",
      "Epoch 268/500\n",
      "68/68 [==============================] - 0s 2ms/step - loss: 0.1801\n",
      "Epoch 269/500\n",
      "68/68 [==============================] - 0s 2ms/step - loss: 0.1751\n",
      "Epoch 270/500\n",
      "68/68 [==============================] - 0s 2ms/step - loss: 0.1763\n",
      "Epoch 271/500\n",
      "68/68 [==============================] - 0s 2ms/step - loss: 0.1864\n",
      "Epoch 272/500\n",
      "68/68 [==============================] - 0s 2ms/step - loss: 0.1782\n",
      "Epoch 273/500\n",
      "68/68 [==============================] - 0s 2ms/step - loss: 0.1785\n",
      "Epoch 274/500\n",
      "68/68 [==============================] - 0s 2ms/step - loss: 0.1873\n",
      "Epoch 275/500\n",
      "68/68 [==============================] - 0s 2ms/step - loss: 0.1830\n",
      "Epoch 276/500\n",
      "68/68 [==============================] - 0s 2ms/step - loss: 0.2139\n",
      "Epoch 277/500\n",
      "68/68 [==============================] - 0s 2ms/step - loss: 0.2813\n",
      "Epoch 278/500\n",
      "68/68 [==============================] - 0s 2ms/step - loss: 0.2518\n",
      "Epoch 279/500\n",
      "68/68 [==============================] - 0s 2ms/step - loss: 0.2009\n",
      "Epoch 280/500\n",
      "68/68 [==============================] - 0s 2ms/step - loss: 0.1840\n",
      "Epoch 281/500\n",
      "68/68 [==============================] - 0s 2ms/step - loss: 0.1702\n",
      "Epoch 282/500\n",
      "68/68 [==============================] - 0s 2ms/step - loss: 0.1717\n",
      "Epoch 283/500\n",
      "68/68 [==============================] - 0s 2ms/step - loss: 0.1768\n",
      "Epoch 284/500\n",
      "68/68 [==============================] - 0s 2ms/step - loss: 0.1753\n",
      "Epoch 285/500\n",
      "68/68 [==============================] - 0s 2ms/step - loss: 0.1721\n",
      "Epoch 286/500\n",
      "68/68 [==============================] - 0s 2ms/step - loss: 0.1728\n",
      "Epoch 287/500\n",
      "68/68 [==============================] - 0s 2ms/step - loss: 0.1709\n",
      "Epoch 288/500\n",
      "68/68 [==============================] - 0s 2ms/step - loss: 0.1778\n",
      "Epoch 289/500\n",
      "68/68 [==============================] - 0s 2ms/step - loss: 0.1707\n",
      "Epoch 290/500\n",
      "68/68 [==============================] - 0s 2ms/step - loss: 0.1694\n",
      "Epoch 291/500\n",
      "68/68 [==============================] - 0s 2ms/step - loss: 0.1875\n",
      "Epoch 292/500\n",
      "68/68 [==============================] - 0s 2ms/step - loss: 0.1767\n",
      "Epoch 293/500\n",
      "68/68 [==============================] - 0s 2ms/step - loss: 0.1779\n",
      "Epoch 294/500\n",
      "68/68 [==============================] - 0s 2ms/step - loss: 0.1707\n",
      "Epoch 295/500\n",
      "68/68 [==============================] - 0s 2ms/step - loss: 0.1689\n",
      "Epoch 296/500\n",
      "68/68 [==============================] - 0s 2ms/step - loss: 0.1699\n",
      "Epoch 297/500\n",
      "68/68 [==============================] - 0s 2ms/step - loss: 0.1707\n",
      "Epoch 298/500\n",
      "68/68 [==============================] - 0s 2ms/step - loss: 0.1685\n",
      "Epoch 299/500\n",
      "68/68 [==============================] - 0s 2ms/step - loss: 0.1662\n",
      "Epoch 300/500\n",
      "68/68 [==============================] - 0s 2ms/step - loss: 0.1685\n",
      "Epoch 301/500\n",
      "68/68 [==============================] - 0s 2ms/step - loss: 0.1640\n",
      "Epoch 302/500\n",
      "68/68 [==============================] - 0s 2ms/step - loss: 0.1654\n",
      "Epoch 303/500\n",
      "68/68 [==============================] - 0s 2ms/step - loss: 0.1735\n",
      "Epoch 304/500\n",
      "68/68 [==============================] - 0s 2ms/step - loss: 0.1742\n",
      "Epoch 305/500\n",
      "68/68 [==============================] - 0s 2ms/step - loss: 0.1845\n",
      "Epoch 306/500\n",
      "68/68 [==============================] - 0s 3ms/step - loss: 0.1856\n",
      "Epoch 307/500\n",
      "68/68 [==============================] - 0s 2ms/step - loss: 0.2139\n",
      "Epoch 308/500\n",
      "68/68 [==============================] - 0s 3ms/step - loss: 0.2460\n",
      "Epoch 309/500\n",
      "68/68 [==============================] - 0s 3ms/step - loss: 0.2496\n",
      "Epoch 310/500\n",
      "68/68 [==============================] - 0s 3ms/step - loss: 0.2170\n",
      "Epoch 311/500\n",
      "68/68 [==============================] - 0s 3ms/step - loss: 0.2003\n",
      "Epoch 312/500\n",
      "68/68 [==============================] - 0s 3ms/step - loss: 0.1824\n",
      "Epoch 313/500\n",
      "68/68 [==============================] - 0s 2ms/step - loss: 0.1803\n",
      "Epoch 314/500\n",
      "68/68 [==============================] - 0s 2ms/step - loss: 0.1773\n",
      "Epoch 315/500\n",
      "68/68 [==============================] - 0s 2ms/step - loss: 0.1695\n",
      "Epoch 316/500\n",
      "68/68 [==============================] - 0s 2ms/step - loss: 0.1678\n",
      "Epoch 317/500\n",
      "68/68 [==============================] - 0s 2ms/step - loss: 0.1681\n",
      "Epoch 318/500\n",
      "68/68 [==============================] - 0s 2ms/step - loss: 0.1686\n",
      "Epoch 319/500\n",
      "68/68 [==============================] - 0s 2ms/step - loss: 0.1668\n",
      "Epoch 320/500\n",
      "68/68 [==============================] - 0s 2ms/step - loss: 0.1703\n",
      "Epoch 321/500\n",
      "68/68 [==============================] - 0s 2ms/step - loss: 0.1854\n",
      "Epoch 322/500\n",
      "68/68 [==============================] - 0s 2ms/step - loss: 0.1719\n",
      "Epoch 323/500\n",
      "68/68 [==============================] - 0s 2ms/step - loss: 0.1674\n",
      "Epoch 324/500\n",
      "68/68 [==============================] - 0s 2ms/step - loss: 0.1660\n",
      "Epoch 325/500\n",
      "68/68 [==============================] - 0s 2ms/step - loss: 0.1676\n",
      "Epoch 326/500\n",
      "68/68 [==============================] - 0s 2ms/step - loss: 0.1653\n",
      "Epoch 327/500\n",
      "68/68 [==============================] - 0s 3ms/step - loss: 0.1646\n",
      "Epoch 328/500\n",
      "68/68 [==============================] - 0s 2ms/step - loss: 0.1640\n",
      "Epoch 329/500\n",
      "68/68 [==============================] - 0s 2ms/step - loss: 0.1666\n",
      "Epoch 330/500\n",
      "68/68 [==============================] - 0s 2ms/step - loss: 0.1760\n",
      "Epoch 331/500\n",
      "68/68 [==============================] - 0s 2ms/step - loss: 0.1760\n",
      "Epoch 332/500\n",
      "68/68 [==============================] - 0s 2ms/step - loss: 0.1712\n",
      "Epoch 333/500\n",
      "68/68 [==============================] - 0s 2ms/step - loss: 0.1694\n",
      "Epoch 334/500\n",
      "68/68 [==============================] - 0s 2ms/step - loss: 0.1796\n",
      "Epoch 335/500\n",
      "68/68 [==============================] - 0s 2ms/step - loss: 0.1683\n",
      "Epoch 336/500\n",
      "68/68 [==============================] - 0s 2ms/step - loss: 0.1756\n",
      "Epoch 337/500\n",
      "68/68 [==============================] - 0s 2ms/step - loss: 0.1887\n",
      "Epoch 338/500\n",
      "68/68 [==============================] - 0s 2ms/step - loss: 0.1822\n",
      "Epoch 339/500\n",
      "68/68 [==============================] - 0s 3ms/step - loss: 0.1941\n",
      "Epoch 340/500\n",
      "68/68 [==============================] - 0s 3ms/step - loss: 0.1804\n",
      "Epoch 341/500\n",
      "68/68 [==============================] - 0s 3ms/step - loss: 0.1910\n",
      "Epoch 342/500\n",
      "68/68 [==============================] - 0s 3ms/step - loss: 0.1764\n",
      "Epoch 343/500\n",
      "68/68 [==============================] - 0s 3ms/step - loss: 0.1726\n",
      "Epoch 344/500\n",
      "68/68 [==============================] - 0s 3ms/step - loss: 0.1797\n",
      "Epoch 345/500\n",
      "68/68 [==============================] - 0s 3ms/step - loss: 0.1720\n",
      "Epoch 346/500\n",
      "68/68 [==============================] - 0s 3ms/step - loss: 0.1658\n",
      "Epoch 347/500\n",
      "68/68 [==============================] - 0s 3ms/step - loss: 0.1635\n",
      "Epoch 348/500\n",
      "68/68 [==============================] - 0s 3ms/step - loss: 0.1639\n",
      "Epoch 349/500\n",
      "68/68 [==============================] - 0s 3ms/step - loss: 0.1650\n",
      "Epoch 350/500\n",
      "68/68 [==============================] - 0s 3ms/step - loss: 0.1702\n",
      "Epoch 351/500\n",
      "68/68 [==============================] - 0s 3ms/step - loss: 0.1688\n",
      "Epoch 352/500\n",
      "68/68 [==============================] - 0s 3ms/step - loss: 0.1676\n",
      "Epoch 353/500\n",
      "68/68 [==============================] - 0s 3ms/step - loss: 0.1656\n",
      "Epoch 354/500\n",
      "68/68 [==============================] - 0s 3ms/step - loss: 0.1803\n",
      "Epoch 355/500\n",
      "68/68 [==============================] - 0s 3ms/step - loss: 0.1792\n",
      "Epoch 356/500\n",
      "68/68 [==============================] - 0s 3ms/step - loss: 0.1650\n",
      "Epoch 357/500\n",
      "68/68 [==============================] - 0s 3ms/step - loss: 0.1668\n",
      "Epoch 358/500\n",
      "68/68 [==============================] - 0s 3ms/step - loss: 0.1738\n",
      "Epoch 359/500\n",
      "68/68 [==============================] - 0s 3ms/step - loss: 0.1826\n",
      "Epoch 360/500\n",
      "68/68 [==============================] - 0s 2ms/step - loss: 0.2056\n",
      "Epoch 361/500\n",
      "68/68 [==============================] - 0s 2ms/step - loss: 0.2087\n",
      "Epoch 362/500\n",
      "68/68 [==============================] - 0s 2ms/step - loss: 0.2133\n",
      "Epoch 363/500\n",
      "68/68 [==============================] - 0s 2ms/step - loss: 0.1977\n",
      "Epoch 364/500\n",
      "68/68 [==============================] - 0s 2ms/step - loss: 0.1744\n",
      "Epoch 365/500\n",
      "68/68 [==============================] - 0s 2ms/step - loss: 0.1666\n",
      "Epoch 366/500\n",
      "68/68 [==============================] - 0s 2ms/step - loss: 0.1645\n",
      "Epoch 367/500\n",
      "68/68 [==============================] - 0s 2ms/step - loss: 0.1632\n",
      "Epoch 368/500\n",
      "68/68 [==============================] - 0s 2ms/step - loss: 0.1614\n",
      "Epoch 369/500\n",
      "68/68 [==============================] - 0s 2ms/step - loss: 0.1643\n",
      "Epoch 370/500\n",
      "68/68 [==============================] - 0s 2ms/step - loss: 0.1637\n",
      "Epoch 371/500\n",
      "68/68 [==============================] - 0s 2ms/step - loss: 0.1801\n",
      "Epoch 372/500\n",
      "68/68 [==============================] - 0s 2ms/step - loss: 0.1765\n",
      "Epoch 373/500\n",
      "68/68 [==============================] - 0s 2ms/step - loss: 0.1703\n",
      "Epoch 374/500\n",
      "68/68 [==============================] - 0s 2ms/step - loss: 0.1700\n",
      "Epoch 375/500\n",
      "68/68 [==============================] - 0s 2ms/step - loss: 0.1679\n",
      "Epoch 376/500\n",
      "68/68 [==============================] - 0s 2ms/step - loss: 0.1632\n",
      "Epoch 377/500\n",
      "68/68 [==============================] - 0s 2ms/step - loss: 0.1632\n",
      "Epoch 378/500\n",
      "68/68 [==============================] - 0s 2ms/step - loss: 0.1616\n",
      "Epoch 379/500\n",
      "68/68 [==============================] - 0s 2ms/step - loss: 0.1665\n",
      "Epoch 380/500\n",
      "68/68 [==============================] - 0s 2ms/step - loss: 0.1628\n",
      "Epoch 381/500\n",
      "68/68 [==============================] - 0s 2ms/step - loss: 0.1650\n",
      "Epoch 382/500\n",
      "68/68 [==============================] - 0s 2ms/step - loss: 0.1670\n",
      "Epoch 383/500\n",
      "68/68 [==============================] - 0s 2ms/step - loss: 0.1645\n",
      "Epoch 384/500\n",
      "68/68 [==============================] - 0s 2ms/step - loss: 0.1692\n",
      "Epoch 385/500\n",
      "68/68 [==============================] - 0s 2ms/step - loss: 0.1879\n",
      "Epoch 386/500\n",
      "68/68 [==============================] - 0s 2ms/step - loss: 0.1710\n",
      "Epoch 387/500\n",
      "68/68 [==============================] - 0s 2ms/step - loss: 0.1848\n",
      "Epoch 388/500\n",
      "68/68 [==============================] - 0s 3ms/step - loss: 0.2226\n",
      "Epoch 389/500\n",
      "68/68 [==============================] - 0s 3ms/step - loss: 0.2936\n",
      "Epoch 390/500\n",
      "68/68 [==============================] - 0s 3ms/step - loss: 0.2676\n",
      "Epoch 391/500\n",
      "68/68 [==============================] - 0s 3ms/step - loss: 0.1821\n",
      "Epoch 392/500\n",
      "68/68 [==============================] - 0s 3ms/step - loss: 0.1698\n",
      "Epoch 393/500\n",
      "68/68 [==============================] - 0s 3ms/step - loss: 0.1649\n",
      "Epoch 394/500\n",
      "68/68 [==============================] - 0s 2ms/step - loss: 0.1611\n",
      "Epoch 395/500\n",
      "68/68 [==============================] - 0s 2ms/step - loss: 0.1618\n",
      "Epoch 396/500\n",
      "68/68 [==============================] - 0s 2ms/step - loss: 0.1597\n",
      "Epoch 397/500\n",
      "68/68 [==============================] - 0s 3ms/step - loss: 0.1584\n",
      "Epoch 398/500\n",
      "68/68 [==============================] - 0s 3ms/step - loss: 0.1580\n",
      "Epoch 399/500\n",
      "68/68 [==============================] - 0s 3ms/step - loss: 0.1583\n",
      "Epoch 400/500\n",
      "68/68 [==============================] - 0s 3ms/step - loss: 0.1590\n",
      "Epoch 401/500\n",
      "68/68 [==============================] - 0s 3ms/step - loss: 0.1595\n",
      "Epoch 402/500\n",
      "68/68 [==============================] - 0s 3ms/step - loss: 0.1569\n",
      "Epoch 403/500\n",
      "68/68 [==============================] - 0s 3ms/step - loss: 0.1612\n",
      "Epoch 404/500\n",
      "68/68 [==============================] - 0s 3ms/step - loss: 0.2083\n",
      "Epoch 405/500\n",
      "68/68 [==============================] - 0s 3ms/step - loss: 0.1920\n",
      "Epoch 406/500\n",
      "68/68 [==============================] - 0s 3ms/step - loss: 0.1729\n",
      "Epoch 407/500\n",
      "68/68 [==============================] - 0s 3ms/step - loss: 0.1843\n",
      "Epoch 408/500\n",
      "68/68 [==============================] - 0s 3ms/step - loss: 0.1656\n",
      "Epoch 409/500\n",
      "68/68 [==============================] - 0s 3ms/step - loss: 0.1635\n",
      "Epoch 410/500\n",
      "68/68 [==============================] - 0s 3ms/step - loss: 0.1702\n",
      "Epoch 411/500\n",
      "68/68 [==============================] - 0s 3ms/step - loss: 0.1605\n",
      "Epoch 412/500\n",
      "68/68 [==============================] - 0s 3ms/step - loss: 0.1623\n",
      "Epoch 413/500\n",
      "68/68 [==============================] - 0s 3ms/step - loss: 0.1594\n",
      "Epoch 414/500\n",
      "68/68 [==============================] - 0s 3ms/step - loss: 0.1599\n",
      "Epoch 415/500\n",
      "68/68 [==============================] - 0s 3ms/step - loss: 0.1583\n",
      "Epoch 416/500\n",
      "68/68 [==============================] - 0s 3ms/step - loss: 0.1602\n",
      "Epoch 417/500\n",
      "68/68 [==============================] - 0s 3ms/step - loss: 0.1608\n",
      "Epoch 418/500\n",
      "68/68 [==============================] - 0s 3ms/step - loss: 0.1613\n",
      "Epoch 419/500\n",
      "68/68 [==============================] - 0s 3ms/step - loss: 0.1772\n",
      "Epoch 420/500\n",
      "68/68 [==============================] - 0s 3ms/step - loss: 0.1740\n",
      "Epoch 421/500\n",
      "68/68 [==============================] - 0s 3ms/step - loss: 0.1619\n",
      "Epoch 422/500\n",
      "68/68 [==============================] - 0s 3ms/step - loss: 0.1658\n",
      "Epoch 423/500\n",
      "68/68 [==============================] - 0s 3ms/step - loss: 0.1635\n",
      "Epoch 424/500\n",
      "68/68 [==============================] - 0s 3ms/step - loss: 0.1653\n",
      "Epoch 425/500\n",
      "68/68 [==============================] - 0s 2ms/step - loss: 0.1608\n",
      "Epoch 426/500\n",
      "68/68 [==============================] - 0s 2ms/step - loss: 0.1661\n",
      "Epoch 427/500\n",
      "68/68 [==============================] - 0s 2ms/step - loss: 0.1621\n",
      "Epoch 428/500\n",
      "68/68 [==============================] - 0s 2ms/step - loss: 0.1645\n",
      "Epoch 429/500\n",
      "68/68 [==============================] - 0s 2ms/step - loss: 0.1711\n",
      "Epoch 430/500\n",
      "68/68 [==============================] - 0s 2ms/step - loss: 0.1650\n",
      "Epoch 431/500\n",
      "68/68 [==============================] - 0s 2ms/step - loss: 0.1624\n",
      "Epoch 432/500\n",
      "68/68 [==============================] - 0s 2ms/step - loss: 0.1625\n",
      "Epoch 433/500\n",
      "68/68 [==============================] - 0s 2ms/step - loss: 0.1597\n",
      "Epoch 434/500\n",
      "68/68 [==============================] - 0s 2ms/step - loss: 0.1582\n",
      "Epoch 435/500\n",
      "68/68 [==============================] - 0s 2ms/step - loss: 0.1581\n",
      "Epoch 436/500\n",
      "68/68 [==============================] - 0s 2ms/step - loss: 0.1658\n",
      "Epoch 437/500\n",
      "68/68 [==============================] - 0s 2ms/step - loss: 0.1619\n",
      "Epoch 438/500\n",
      "68/68 [==============================] - 0s 2ms/step - loss: 0.1627\n",
      "Epoch 439/500\n",
      "68/68 [==============================] - 0s 2ms/step - loss: 0.1612\n",
      "Epoch 440/500\n",
      "68/68 [==============================] - 0s 2ms/step - loss: 0.1604\n",
      "Epoch 441/500\n",
      "68/68 [==============================] - 0s 2ms/step - loss: 0.1661\n",
      "Epoch 442/500\n",
      "68/68 [==============================] - 0s 2ms/step - loss: 0.1726\n",
      "Epoch 443/500\n",
      "68/68 [==============================] - 0s 3ms/step - loss: 0.1887\n",
      "Epoch 444/500\n",
      "68/68 [==============================] - 0s 2ms/step - loss: 0.2132\n",
      "Epoch 445/500\n",
      "68/68 [==============================] - 0s 2ms/step - loss: 0.2915\n",
      "Epoch 446/500\n",
      "68/68 [==============================] - 0s 2ms/step - loss: 0.2728\n",
      "Epoch 447/500\n",
      "68/68 [==============================] - 0s 2ms/step - loss: 0.2082\n",
      "Epoch 448/500\n",
      "68/68 [==============================] - 0s 2ms/step - loss: 0.1681\n",
      "Epoch 449/500\n",
      "68/68 [==============================] - 0s 2ms/step - loss: 0.1625\n",
      "Epoch 450/500\n",
      "68/68 [==============================] - 0s 2ms/step - loss: 0.1584\n",
      "Epoch 451/500\n",
      "68/68 [==============================] - 0s 2ms/step - loss: 0.1579\n",
      "Epoch 452/500\n",
      "68/68 [==============================] - 0s 2ms/step - loss: 0.1578\n",
      "Epoch 453/500\n",
      "68/68 [==============================] - 0s 2ms/step - loss: 0.1572\n",
      "Epoch 454/500\n",
      "68/68 [==============================] - 0s 2ms/step - loss: 0.1593\n",
      "Epoch 455/500\n",
      "68/68 [==============================] - 0s 2ms/step - loss: 0.1566\n",
      "Epoch 456/500\n",
      "68/68 [==============================] - 0s 3ms/step - loss: 0.1571\n",
      "Epoch 457/500\n",
      "68/68 [==============================] - 0s 3ms/step - loss: 0.1615\n",
      "Epoch 458/500\n",
      "68/68 [==============================] - 0s 2ms/step - loss: 0.1588\n",
      "Epoch 459/500\n",
      "68/68 [==============================] - 0s 2ms/step - loss: 0.1561\n",
      "Epoch 460/500\n",
      "68/68 [==============================] - 0s 2ms/step - loss: 0.1572\n",
      "Epoch 461/500\n",
      "68/68 [==============================] - 0s 2ms/step - loss: 0.1573\n",
      "Epoch 462/500\n",
      "68/68 [==============================] - 0s 3ms/step - loss: 0.1581\n",
      "Epoch 463/500\n",
      "68/68 [==============================] - 0s 3ms/step - loss: 0.1607\n",
      "Epoch 464/500\n",
      "68/68 [==============================] - 0s 3ms/step - loss: 0.1714\n",
      "Epoch 465/500\n",
      "68/68 [==============================] - 0s 3ms/step - loss: 0.1931\n",
      "Epoch 466/500\n",
      "68/68 [==============================] - 0s 2ms/step - loss: 0.1757\n",
      "Epoch 467/500\n",
      "68/68 [==============================] - 0s 3ms/step - loss: 0.1654\n",
      "Epoch 468/500\n",
      "68/68 [==============================] - 0s 3ms/step - loss: 0.1623\n",
      "Epoch 469/500\n",
      "68/68 [==============================] - 0s 3ms/step - loss: 0.1604\n",
      "Epoch 470/500\n",
      "68/68 [==============================] - 0s 3ms/step - loss: 0.1588\n",
      "Epoch 471/500\n",
      "68/68 [==============================] - 0s 3ms/step - loss: 0.1581\n",
      "Epoch 472/500\n",
      "68/68 [==============================] - 0s 2ms/step - loss: 0.1579\n",
      "Epoch 473/500\n",
      "68/68 [==============================] - 0s 3ms/step - loss: 0.1593\n",
      "Epoch 474/500\n",
      "68/68 [==============================] - 0s 2ms/step - loss: 0.1665\n",
      "Epoch 475/500\n",
      "68/68 [==============================] - 0s 2ms/step - loss: 0.1593\n",
      "Epoch 476/500\n",
      "68/68 [==============================] - 0s 2ms/step - loss: 0.1619\n",
      "Epoch 477/500\n",
      "68/68 [==============================] - 0s 2ms/step - loss: 0.1576\n",
      "Epoch 478/500\n",
      "68/68 [==============================] - 0s 3ms/step - loss: 0.1605\n",
      "Epoch 479/500\n",
      "68/68 [==============================] - 0s 3ms/step - loss: 0.1758\n",
      "Epoch 480/500\n",
      "68/68 [==============================] - 0s 3ms/step - loss: 0.1792\n",
      "Epoch 481/500\n",
      "68/68 [==============================] - 0s 3ms/step - loss: 0.1903\n",
      "Epoch 482/500\n",
      "68/68 [==============================] - 0s 2ms/step - loss: 0.1939\n",
      "Epoch 483/500\n",
      "68/68 [==============================] - 0s 2ms/step - loss: 0.2160\n",
      "Epoch 484/500\n",
      "68/68 [==============================] - 0s 2ms/step - loss: 0.2013\n",
      "Epoch 485/500\n",
      "68/68 [==============================] - 0s 3ms/step - loss: 0.1827\n",
      "Epoch 486/500\n",
      "68/68 [==============================] - 0s 3ms/step - loss: 0.1624\n",
      "Epoch 487/500\n",
      "68/68 [==============================] - 0s 3ms/step - loss: 0.1591\n",
      "Epoch 488/500\n",
      "68/68 [==============================] - 0s 3ms/step - loss: 0.1578\n",
      "Epoch 489/500\n",
      "68/68 [==============================] - 0s 3ms/step - loss: 0.1579\n",
      "Epoch 490/500\n",
      "68/68 [==============================] - 0s 3ms/step - loss: 0.1592\n",
      "Epoch 491/500\n",
      "68/68 [==============================] - 0s 2ms/step - loss: 0.1589\n",
      "Epoch 492/500\n",
      "68/68 [==============================] - 0s 2ms/step - loss: 0.1565\n",
      "Epoch 493/500\n",
      "68/68 [==============================] - 0s 2ms/step - loss: 0.1552\n",
      "Epoch 494/500\n",
      "68/68 [==============================] - 0s 3ms/step - loss: 0.1553\n",
      "Epoch 495/500\n",
      "68/68 [==============================] - 0s 3ms/step - loss: 0.1571\n",
      "Epoch 496/500\n",
      "68/68 [==============================] - 0s 3ms/step - loss: 0.1580\n",
      "Epoch 497/500\n",
      "68/68 [==============================] - 0s 3ms/step - loss: 0.1639\n",
      "Epoch 498/500\n",
      "68/68 [==============================] - 0s 3ms/step - loss: 0.1586\n",
      "Epoch 499/500\n",
      "68/68 [==============================] - 0s 3ms/step - loss: 0.1591\n",
      "Epoch 500/500\n",
      "68/68 [==============================] - 0s 3ms/step - loss: 0.1751\n"
     ]
    },
    {
     "data": {
      "text/plain": [
       "<keras.src.callbacks.History at 0x194826a7d90>"
      ]
     },
     "execution_count": 52,
     "metadata": {},
     "output_type": "execute_result"
    }
   ],
   "source": [
    " model.fit(X_train,y_train,epochs=500)"
   ]
  },
  {
   "cell_type": "code",
   "execution_count": 53,
   "id": "dfd3782d-4602-46fc-bdf1-278219ae9bb2",
   "metadata": {
    "tags": []
   },
   "outputs": [
    {
     "name": "stdout",
     "output_type": "stream",
     "text": [
      "68/68 [==============================] - 0s 2ms/step\n"
     ]
    }
   ],
   "source": [
    "predicted_salary = model.predict(X_train)"
   ]
  },
  {
   "cell_type": "code",
   "execution_count": 54,
   "id": "6703226e-faf0-4220-995b-85f9d2f9791d",
   "metadata": {
    "collapsed": true,
    "jupyter": {
     "outputs_hidden": true,
     "source_hidden": true
    },
    "tags": []
   },
   "outputs": [
    {
     "data": {
      "text/plain": [
       "array([[ -2.6215396 ,   3.0714567 ,  -6.1397142 ,   3.0194147 ,\n",
       "         -4.6083107 ],\n",
       "       [-14.648977  ,  -9.217569  ,  -5.5300384 ,   6.40731   ,\n",
       "          0.69998324],\n",
       "       [ -5.220881  ,  10.483197  ,  -7.39552   ,  -1.6157862 ,\n",
       "        -17.293861  ],\n",
       "       ...,\n",
       "       [ 14.1935835 ,   4.756498  , -10.718328  ,  -5.942719  ,\n",
       "        -29.924831  ],\n",
       "       [  3.02434   ,   7.9950767 , -18.028234  , -11.671802  ,\n",
       "          1.179825  ],\n",
       "       [ -8.2031765 ,   6.2429647 ,  -4.692885  ,  -6.324653  ,\n",
       "         -4.8786817 ]], dtype=float32)"
      ]
     },
     "execution_count": 54,
     "metadata": {},
     "output_type": "execute_result"
    }
   ],
   "source": [
    "predicted_salary"
   ]
  },
  {
   "cell_type": "code",
   "execution_count": 55,
   "id": "7d4fed6f-68fa-46c1-ae12-ccfec00120ca",
   "metadata": {
    "tags": []
   },
   "outputs": [],
   "source": [
    "#Saving the choosen categories:\n",
    "predicted_classes_train = np.argmax(predicted_salary, axis=1)"
   ]
  },
  {
   "cell_type": "code",
   "execution_count": 56,
   "metadata": {},
   "outputs": [],
   "source": [
    "from sklearn.metrics import confusion_matrix"
   ]
  },
  {
   "cell_type": "code",
   "execution_count": 57,
   "id": "c8dfeb30-97e9-42c5-94ee-4e79ae47a164",
   "metadata": {
    "tags": []
   },
   "outputs": [
    {
     "data": {
      "text/plain": [
       "array([[388,  17,  15,  13,   4],\n",
       "       [  9, 298,   8,   4,   1],\n",
       "       [  7,  11, 457,   7,   6],\n",
       "       [  5,  18,  22, 508,  16],\n",
       "       [  1,   5,  11,  11, 308]], dtype=int64)"
      ]
     },
     "execution_count": 57,
     "metadata": {},
     "output_type": "execute_result"
    }
   ],
   "source": [
    "cm = confusion_matrix(y_train, predicted_classes_train)\n",
    "cm"
   ]
  },
  {
   "cell_type": "code",
   "execution_count": 36,
   "id": "47c59a7d-0a04-4e4d-8006-b00c3c7fa67d",
   "metadata": {
    "jupyter": {
     "source_hidden": true
    },
    "tags": []
   },
   "outputs": [],
   "source": [
    "import seaborn as sns\n",
    "import matplotlib.pyplot as plt"
   ]
  },
  {
   "cell_type": "code",
   "execution_count": 58,
   "id": "e19615ab-de36-4d5f-8a23-7d5f5bfd8b0e",
   "metadata": {
    "tags": []
   },
   "outputs": [
    {
     "data": {
      "image/png": "[encoded data removed]",
      "text/plain": [
       "<Figure size 1000x700 with 2 Axes>"
      ]
     },
     "metadata": {},
     "output_type": "display_data"
    }
   ],
   "source": [
    "# Define the custom labels\n",
    "labels = [\"Below 70K\", \"70K-90K\", \"90K-120K\", \"120K-150K\", \"Above 150K\"]\n",
    "\n",
    "# Plotting\n",
    "plt.figure(figsize=(10, 7))\n",
    "sns.heatmap(cm, annot=True, fmt='g', cmap='Blues', xticklabels=labels, yticklabels=labels)\n",
    "plt.xlabel('Predicted')\n",
    "plt.ylabel('True')\n",
    "plt.title('Confusion Matrix')\n",
    "plt.show()\n"
   ]
  },
  {
   "cell_type": "code",
   "execution_count": 38,
   "id": "3d4e4464-51b9-47df-bc2f-a18ff515942a",
   "metadata": {
    "jupyter": {
     "source_hidden": true
    },
    "tags": []
   },
   "outputs": [],
   "source": [
    "from sklearn.metrics import precision_score, recall_score, f1_score, accuracy_score\n"
   ]
  },
  {
   "cell_type": "code",
   "execution_count": 59,
   "id": "985e9056-2011-454e-866c-e416c97ab779",
   "metadata": {
    "tags": []
   },
   "outputs": [
    {
     "data": {
      "text/plain": [
       "(0.9111627906976745,\n",
       " 0.9129123790285352,\n",
       " 0.9111627906976745,\n",
       " 0.9113366041825565)"
      ]
     },
     "execution_count": 59,
     "metadata": {},
     "output_type": "execute_result"
    }
   ],
   "source": [
    "# Calculate precision, recall, and F1-score for the training data predictions\n",
    "accuracy = accuracy_score(y_train, predicted_classes_train)\n",
    "precision = precision_score(y_train, predicted_classes_train, average='weighted')\n",
    "recall = recall_score(y_train, predicted_classes_train, average='weighted')\n",
    "f1 = f1_score(y_train, predicted_classes_train, average='weighted')\n",
    "\n",
    "accuracy,precision, recall, f1\n"
   ]
  },
  {
   "cell_type": "markdown",
   "id": "8f5ad3a4-9738-4ad7-b993-c84f9a0b0410",
   "metadata": {
    "tags": []
   },
   "source": [
    "To see the probabilities:"
   ]
  },
  {
   "cell_type": "code",
   "execution_count": 40,
   "id": "1ef5ddca-3c70-48d9-9a7f-8e0af7a61be1",
   "metadata": {
    "tags": []
   },
   "outputs": [],
   "source": [
    "probs = tf.nn.softmax(predicted_salary).numpy()"
   ]
  },
  {
   "cell_type": "code",
   "execution_count": 41,
   "id": "45072082-9d91-46d0-985c-5b4528bfb300",
   "metadata": {
    "collapsed": true,
    "jupyter": {
     "outputs_hidden": true
    },
    "tags": []
   },
   "outputs": [
    {
     "data": {
      "text/plain": [
       "array([[7.4198670e-03, 9.0767783e-01, 6.7254907e-05, 8.4625237e-02,\n",
       "        2.0986328e-04],\n",
       "       [2.5631575e-04, 2.0077505e-07, 8.5250298e-03, 9.0102911e-01,\n",
       "        9.0189308e-02],\n",
       "       [2.6312800e-02, 9.7165495e-01, 1.7982518e-03, 2.3240600e-04,\n",
       "        1.6290493e-06],\n",
       "       ...,\n",
       "       [9.9995565e-01, 1.4770790e-06, 2.2081462e-05, 2.0775844e-05,\n",
       "        4.4967922e-11],\n",
       "       [3.2212727e-02, 8.9260298e-01, 1.3439320e-03, 7.2681095e-04,\n",
       "        7.3113419e-02],\n",
       "       [4.1195261e-03, 9.8772508e-01, 8.0606877e-04, 5.7564559e-03,\n",
       "        1.5928086e-03]], dtype=float32)"
      ]
     },
     "execution_count": 41,
     "metadata": {},
     "output_type": "execute_result"
    }
   ],
   "source": [
    "probs"
   ]
  },
  {
   "cell_type": "markdown",
   "id": "6d0809b0-ee40-4299-bab3-e19cec8fae35",
   "metadata": {},
   "source": [
    "To select the most likely category, the softmax is not required. One can find the index of the largest output using np.argmax()."
   ]
  },
  {
   "cell_type": "code",
   "execution_count": 42,
   "id": "e1b54b5e-be0a-498e-8dc4-d35f14bd022b",
   "metadata": {
    "collapsed": true,
    "jupyter": {
     "outputs_hidden": true
    },
    "tags": []
   },
   "outputs": [
    {
     "name": "stdout",
     "output_type": "stream",
     "text": [
      "[-4.015153    0.79157543 -8.718579   -1.5810816  -7.580613  ], category: 1\n",
      "[ -4.5893335 -11.741314   -1.0849814   3.5755494   1.2739228], category: 3\n",
      "[ 0.74122316  4.350168   -1.9420178  -3.988102   -8.948591  ], category: 1\n",
      "[ -4.683672   -2.5565267   4.025982   -5.201401  -14.425289 ], category: 2\n",
      "[-16.034403  -12.996643   10.087341   -5.970273   -3.6885312], category: 2\n"
     ]
    }
   ],
   "source": [
    "for i in range(5):\n",
    "    print( f\"{predicted_salary[i]}, category: {np.argmax(predicted_salary[i])}\")"
   ]
  },
  {
   "cell_type": "code",
   "execution_count": 43,
   "id": "324c62b4-2146-49cc-be91-a2676f20b509",
   "metadata": {
    "collapsed": true,
    "jupyter": {
     "outputs_hidden": true
    },
    "tags": []
   },
   "outputs": [
    {
     "name": "stdout",
     "output_type": "stream",
     "text": [
      "[7.4198670e-03 9.0767783e-01 6.7254907e-05 8.4625237e-02 2.0986328e-04], category: 1\n",
      "[2.5631575e-04 2.0077505e-07 8.5250298e-03 9.0102911e-01 9.0189308e-02], category: 3\n",
      "[2.6312800e-02 9.7165495e-01 1.7982518e-03 2.3240600e-04 1.6290493e-06], category: 1\n",
      "[1.6471397e-04 1.3820948e-03 9.9835497e-01 9.8148485e-05 9.6827755e-09], category: 2\n",
      "[4.5234541e-12 9.4352290e-11 9.9999881e-01 1.0623475e-07 1.0404332e-06], category: 2\n"
     ]
    }
   ],
   "source": [
    "for i in range(5):\n",
    "    print( f\"{probs[i]}, category: {np.argmax(predicted_salary[i])}\")"
   ]
  },
  {
   "cell_type": "markdown",
   "id": "5fd38d03-c631-4d3b-8c55-dbc6c0abe1b4",
   "metadata": {
    "tags": []
   },
   "source": [
    "Train Data:"
   ]
  },
  {
   "cell_type": "code",
   "execution_count": 44,
   "id": "956ac8ab-b8f1-4260-b3e7-5d4d23df6fd7",
   "metadata": {
    "tags": []
   },
   "outputs": [
    {
     "name": "stdout",
     "output_type": "stream",
     "text": [
      "17/17 [==============================] - 0s 2ms/step\n"
     ]
    }
   ],
   "source": [
    "predicted_salary_test = model.predict(X_test)"
   ]
  },
  {
   "cell_type": "code",
   "execution_count": 45,
   "id": "7e8fdac0-4811-4aad-a0b0-c78bd77d1ee7",
   "metadata": {
    "tags": []
   },
   "outputs": [],
   "source": [
    "#Saving the choosen categories:\n",
    "predicted_classes_test = np.argmax(predicted_salary_test, axis=1)"
   ]
  },
  {
   "cell_type": "code",
   "execution_count": 46,
   "id": "2e998e20-5717-4c67-9510-426f2ebc5605",
   "metadata": {
    "tags": []
   },
   "outputs": [
    {
     "data": {
      "text/plain": [
       "array([[26, 12, 36, 29,  9],\n",
       "       [26, 30, 24,  6,  3],\n",
       "       [19, 17, 38, 25, 29],\n",
       "       [20, 10, 29, 49, 27],\n",
       "       [ 3,  1, 22, 21, 27]], dtype=int64)"
      ]
     },
     "execution_count": 46,
     "metadata": {},
     "output_type": "execute_result"
    }
   ],
   "source": [
    "cm_test = confusion_matrix(y_test, predicted_classes_test)\n",
    "cm_test"
   ]
  },
  {
   "cell_type": "code",
   "execution_count": 47,
   "id": "bd1889e2-5b56-4b3f-b468-874ecb634f85",
   "metadata": {
    "tags": []
   },
   "outputs": [
    {
     "data": {
      "image/png": "[encoded data removed]",
      "text/plain": [
       "<Figure size 1000x700 with 2 Axes>"
      ]
     },
     "metadata": {},
     "output_type": "display_data"
    }
   ],
   "source": [
    "# Define the custom labels\n",
    "labels = [\"Below 70K\", \"70K-90K\", \"90K-120K\", \"120K-150K\", \"Above 150K\"]\n",
    "\n",
    "# Plotting\n",
    "plt.figure(figsize=(10, 7))\n",
    "sns.heatmap(cm_test, annot=True, fmt='g', cmap='Blues', xticklabels=labels, yticklabels=labels)\n",
    "plt.xlabel('Predicted')\n",
    "plt.ylabel('True')\n",
    "plt.title('Confusion Matrix')\n",
    "plt.show()\n"
   ]
  },
  {
   "cell_type": "code",
   "execution_count": 48,
   "id": "974df7fd-d1ac-4473-aef3-a0e01290d909",
   "metadata": {
    "tags": []
   },
   "outputs": [
    {
     "data": {
      "text/plain": [
       "0.3159851301115242"
      ]
     },
     "execution_count": 48,
     "metadata": {},
     "output_type": "execute_result"
    }
   ],
   "source": [
    "# Compute and display accuracy\n",
    "accuracy_test = accuracy_score(y_test, predicted_classes_test)\n",
    "accuracy_test"
   ]
  },
  {
   "cell_type": "code",
   "execution_count": 49,
   "id": "391c571c-573a-4a1d-bad4-7ca515812fc3",
   "metadata": {},
   "outputs": [
    {
     "ename": "NameError",
     "evalue": "name 'df' is not defined",
     "output_type": "error",
     "traceback": [
      "\u001b[1;31m---------------------------------------------------------------------------\u001b[0m",
      "\u001b[1;31mNameError\u001b[0m                                 Traceback (most recent call last)",
      "\u001b[1;32mc:\\Users\\ahmed\\OneDrive\\Desktop\\380-PRJ\\Draft2.ipynb Cell 59\u001b[0m line \u001b[0;36m2\n\u001b[0;32m      <a href='vscode-notebook-cell:/c%3A/Users/ahmed/OneDrive/Desktop/380-PRJ/Draft2.ipynb#Y112sZmlsZQ%3D%3D?line=0'>1</a>\u001b[0m filename \u001b[39m=\u001b[39m \u001b[39m\"\u001b[39m\u001b[39m/mnt/data/my_data.csv\u001b[39m\u001b[39m\"\u001b[39m\n\u001b[1;32m----> <a href='vscode-notebook-cell:/c%3A/Users/ahmed/OneDrive/Desktop/380-PRJ/Draft2.ipynb#Y112sZmlsZQ%3D%3D?line=1'>2</a>\u001b[0m df\u001b[39m.\u001b[39mto_csv(filename, index\u001b[39m=\u001b[39m\u001b[39mFalse\u001b[39;00m)\n\u001b[0;32m      <a href='vscode-notebook-cell:/c%3A/Users/ahmed/OneDrive/Desktop/380-PRJ/Draft2.ipynb#Y112sZmlsZQ%3D%3D?line=3'>4</a>\u001b[0m \u001b[39m# Create a clickable link to download\u001b[39;00m\n\u001b[0;32m      <a href='vscode-notebook-cell:/c%3A/Users/ahmed/OneDrive/Desktop/380-PRJ/Draft2.ipynb#Y112sZmlsZQ%3D%3D?line=4'>5</a>\u001b[0m link \u001b[39m=\u001b[39m \u001b[39mf\u001b[39m\u001b[39m'\u001b[39m\u001b[39m<a href=\u001b[39m\u001b[39m\"\u001b[39m\u001b[39m{\u001b[39;00mfilename\u001b[39m}\u001b[39;00m\u001b[39m\"\u001b[39m\u001b[39m target=\u001b[39m\u001b[39m\"\u001b[39m\u001b[39m_blank\u001b[39m\u001b[39m\"\u001b[39m\u001b[39m>Click here to download the CSV file</a>\u001b[39m\u001b[39m'\u001b[39m\n",
      "\u001b[1;31mNameError\u001b[0m: name 'df' is not defined"
     ]
    }
   ],
   "source": [
    "filename = \"/mnt/data/my_data.csv\"\n",
    "df.to_csv(filename, index=False)\n",
    "\n",
    "# Create a clickable link to download\n",
    "link = f'<a href=\"{filename}\" target=\"_blank\">Click here to download the CSV file</a>'\n",
    "display(HTML(link))"
   ]
  },
  {
   "cell_type": "code",
   "execution_count": null,
   "id": "e1138b09-b94b-4738-b0c0-f2fb218212f1",
   "metadata": {},
   "outputs": [],
   "source": []
  },
  {
   "cell_type": "code",
   "execution_count": null,
   "id": "19d0790a-dbd3-4bf6-a801-2e7466f678f5",
   "metadata": {},
   "outputs": [],
   "source": []
  },
  {
   "cell_type": "code",
   "execution_count": null,
   "id": "262ed492-ec05-40b3-a78d-4b21078cc55e",
   "metadata": {
    "tags": []
   },
   "outputs": [],
   "source": [
    "jobs.to_csv('jobs.csv', index=False)\n"
   ]
  },
  {
   "cell_type": "code",
   "execution_count": null,
   "id": "ed8ed0fd-7a21-4416-858c-cf956429eef2",
   "metadata": {
    "tags": []
   },
   "outputs": [],
   "source": [
    "jobs.drop(columns=['...1', 'index'],inplace=True)"
   ]
  },
  {
   "cell_type": "code",
   "execution_count": 2,
   "id": "78814dcd-877f-44d6-be68-9b4df6562f4d",
   "metadata": {},
   "outputs": [
    {
     "name": "stdout",
     "output_type": "stream",
     "text": [
      "Hamming Loss for ACT_English_benchmark: 0.10869565217391304\n",
      "Hamming Loss for ACT_English_benchmark: 0.10869565217391304\n"
     ]
    }
   ],
   "source": [
    "print(\"Hamming Loss for ACT_English_benchmark:   0.10869565217391304\")\n",
    "print(\"Hamming Loss for ACT_Math_benchmark:      0.07434782608695657\")\n",
    "print(\"Hamming Loss for ACT_Reading_benchmark:   0.08978260869565214\")"
   ]
  },
  {
   "cell_type": "code",
   "execution_count": null,
   "metadata": {},
   "outputs": [],
   "source": []
  }
 ],
 "metadata": {
  "kernelspec": {
   "display_name": "Python 3 (ipykernel)",
   "language": "python",
   "name": "python3"
  },
  "language_info": {
   "codemirror_mode": {
    "name": "ipython",
    "version": 3
   },
   "file_extension": ".py",
   "mimetype": "text/x-python",
   "name": "python",
   "nbconvert_exporter": "python",
   "pygments_lexer": "ipython3",
   "version": "3.11.1"
  }
 },
 "nbformat": 4,
 "nbformat_minor": 5
}
